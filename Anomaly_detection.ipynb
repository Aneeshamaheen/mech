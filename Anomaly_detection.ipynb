{
 "cells": [
  {
   "cell_type": "code",
   "execution_count": 1,
   "metadata": {
    "datalore": {
     "hide_input_from_viewers": true,
     "hide_output_from_viewers": true,
     "node_id": "Tx5QrTBOUGENipyXG0JR4O",
     "type": "CODE"
    }
   },
   "outputs": [],
   "source": [
    "# Importing required libraries\n",
    "import numpy as np\n",
    "import pandas as pd\n",
    "import matplotlib.pyplot as plt\n",
    "import seaborn as sns\n",
    "%matplotlib inline\n",
    "import random\n",
    "import warnings\n",
    "warnings.filterwarnings(\"ignore\")"
   ]
  },
  {
   "cell_type": "code",
   "execution_count": 2,
   "metadata": {
    "datalore": {
     "hide_input_from_viewers": true,
     "hide_output_from_viewers": true,
     "node_id": "ehQY5AxcR5u6aU55mBAKEp",
     "type": "CODE"
    }
   },
   "outputs": [
    {
     "data": {
      "text/html": [
       "<div>\n",
       "<style scoped>\n",
       "    .dataframe tbody tr th:only-of-type {\n",
       "        vertical-align: middle;\n",
       "    }\n",
       "\n",
       "    .dataframe tbody tr th {\n",
       "        vertical-align: top;\n",
       "    }\n",
       "\n",
       "    .dataframe thead th {\n",
       "        text-align: right;\n",
       "    }\n",
       "</style>\n",
       "<table border=\"1\" class=\"dataframe\">\n",
       "  <thead>\n",
       "    <tr style=\"text-align: right;\">\n",
       "      <th></th>\n",
       "      <th>Unnamed: 0</th>\n",
       "      <th>trans_date_trans_time</th>\n",
       "      <th>cc_num</th>\n",
       "      <th>merchant</th>\n",
       "      <th>category</th>\n",
       "      <th>amt</th>\n",
       "      <th>first</th>\n",
       "      <th>last</th>\n",
       "      <th>gender</th>\n",
       "      <th>street</th>\n",
       "      <th>...</th>\n",
       "      <th>lat</th>\n",
       "      <th>long</th>\n",
       "      <th>city_pop</th>\n",
       "      <th>job</th>\n",
       "      <th>dob</th>\n",
       "      <th>trans_num</th>\n",
       "      <th>unix_time</th>\n",
       "      <th>merch_lat</th>\n",
       "      <th>merch_long</th>\n",
       "      <th>is_fraud</th>\n",
       "    </tr>\n",
       "  </thead>\n",
       "  <tbody>\n",
       "    <tr>\n",
       "      <th>0</th>\n",
       "      <td>0</td>\n",
       "      <td>2020-06-21 12:14:25</td>\n",
       "      <td>2291163933867244</td>\n",
       "      <td>fraud_Kirlin and Sons</td>\n",
       "      <td>personal_care</td>\n",
       "      <td>2.86</td>\n",
       "      <td>Jeff</td>\n",
       "      <td>Elliott</td>\n",
       "      <td>M</td>\n",
       "      <td>351 Darlene Green</td>\n",
       "      <td>...</td>\n",
       "      <td>33.9659</td>\n",
       "      <td>-80.9355</td>\n",
       "      <td>333497</td>\n",
       "      <td>Mechanical engineer</td>\n",
       "      <td>1968-03-19</td>\n",
       "      <td>2da90c7d74bd46a0caf3777415b3ebd3</td>\n",
       "      <td>1371816865</td>\n",
       "      <td>33.986391</td>\n",
       "      <td>-81.200714</td>\n",
       "      <td>0</td>\n",
       "    </tr>\n",
       "    <tr>\n",
       "      <th>1</th>\n",
       "      <td>1</td>\n",
       "      <td>2020-06-21 12:14:33</td>\n",
       "      <td>3573030041201292</td>\n",
       "      <td>fraud_Sporer-Keebler</td>\n",
       "      <td>personal_care</td>\n",
       "      <td>29.84</td>\n",
       "      <td>Joanne</td>\n",
       "      <td>Williams</td>\n",
       "      <td>F</td>\n",
       "      <td>3638 Marsh Union</td>\n",
       "      <td>...</td>\n",
       "      <td>40.3207</td>\n",
       "      <td>-110.4360</td>\n",
       "      <td>302</td>\n",
       "      <td>Sales professional, IT</td>\n",
       "      <td>1990-01-17</td>\n",
       "      <td>324cc204407e99f51b0d6ca0055005e7</td>\n",
       "      <td>1371816873</td>\n",
       "      <td>39.450498</td>\n",
       "      <td>-109.960431</td>\n",
       "      <td>0</td>\n",
       "    </tr>\n",
       "    <tr>\n",
       "      <th>2</th>\n",
       "      <td>2</td>\n",
       "      <td>2020-06-21 12:14:53</td>\n",
       "      <td>3598215285024754</td>\n",
       "      <td>fraud_Swaniawski, Nitzsche and Welch</td>\n",
       "      <td>health_fitness</td>\n",
       "      <td>41.28</td>\n",
       "      <td>Ashley</td>\n",
       "      <td>Lopez</td>\n",
       "      <td>F</td>\n",
       "      <td>9333 Valentine Point</td>\n",
       "      <td>...</td>\n",
       "      <td>40.6729</td>\n",
       "      <td>-73.5365</td>\n",
       "      <td>34496</td>\n",
       "      <td>Librarian, public</td>\n",
       "      <td>1970-10-21</td>\n",
       "      <td>c81755dbbbea9d5c77f094348a7579be</td>\n",
       "      <td>1371816893</td>\n",
       "      <td>40.495810</td>\n",
       "      <td>-74.196111</td>\n",
       "      <td>0</td>\n",
       "    </tr>\n",
       "    <tr>\n",
       "      <th>3</th>\n",
       "      <td>3</td>\n",
       "      <td>2020-06-21 12:15:15</td>\n",
       "      <td>3591919803438423</td>\n",
       "      <td>fraud_Haley Group</td>\n",
       "      <td>misc_pos</td>\n",
       "      <td>60.05</td>\n",
       "      <td>Brian</td>\n",
       "      <td>Williams</td>\n",
       "      <td>M</td>\n",
       "      <td>32941 Krystal Mill Apt. 552</td>\n",
       "      <td>...</td>\n",
       "      <td>28.5697</td>\n",
       "      <td>-80.8191</td>\n",
       "      <td>54767</td>\n",
       "      <td>Set designer</td>\n",
       "      <td>1987-07-25</td>\n",
       "      <td>2159175b9efe66dc301f149d3d5abf8c</td>\n",
       "      <td>1371816915</td>\n",
       "      <td>28.812398</td>\n",
       "      <td>-80.883061</td>\n",
       "      <td>0</td>\n",
       "    </tr>\n",
       "    <tr>\n",
       "      <th>4</th>\n",
       "      <td>4</td>\n",
       "      <td>2020-06-21 12:15:17</td>\n",
       "      <td>3526826139003047</td>\n",
       "      <td>fraud_Johnston-Casper</td>\n",
       "      <td>travel</td>\n",
       "      <td>3.19</td>\n",
       "      <td>Nathan</td>\n",
       "      <td>Massey</td>\n",
       "      <td>M</td>\n",
       "      <td>5783 Evan Roads Apt. 465</td>\n",
       "      <td>...</td>\n",
       "      <td>44.2529</td>\n",
       "      <td>-85.0170</td>\n",
       "      <td>1126</td>\n",
       "      <td>Furniture designer</td>\n",
       "      <td>1955-07-06</td>\n",
       "      <td>57ff021bd3f328f8738bb535c302a31b</td>\n",
       "      <td>1371816917</td>\n",
       "      <td>44.959148</td>\n",
       "      <td>-85.884734</td>\n",
       "      <td>0</td>\n",
       "    </tr>\n",
       "  </tbody>\n",
       "</table>\n",
       "<p>5 rows × 23 columns</p>\n",
       "</div>"
      ],
      "text/plain": [
       "   Unnamed: 0 trans_date_trans_time            cc_num  \\\n",
       "0           0   2020-06-21 12:14:25  2291163933867244   \n",
       "1           1   2020-06-21 12:14:33  3573030041201292   \n",
       "2           2   2020-06-21 12:14:53  3598215285024754   \n",
       "3           3   2020-06-21 12:15:15  3591919803438423   \n",
       "4           4   2020-06-21 12:15:17  3526826139003047   \n",
       "\n",
       "                               merchant        category    amt   first  \\\n",
       "0                 fraud_Kirlin and Sons   personal_care   2.86    Jeff   \n",
       "1                  fraud_Sporer-Keebler   personal_care  29.84  Joanne   \n",
       "2  fraud_Swaniawski, Nitzsche and Welch  health_fitness  41.28  Ashley   \n",
       "3                     fraud_Haley Group        misc_pos  60.05   Brian   \n",
       "4                 fraud_Johnston-Casper          travel   3.19  Nathan   \n",
       "\n",
       "       last gender                       street  ...      lat      long  \\\n",
       "0   Elliott      M            351 Darlene Green  ...  33.9659  -80.9355   \n",
       "1  Williams      F             3638 Marsh Union  ...  40.3207 -110.4360   \n",
       "2     Lopez      F         9333 Valentine Point  ...  40.6729  -73.5365   \n",
       "3  Williams      M  32941 Krystal Mill Apt. 552  ...  28.5697  -80.8191   \n",
       "4    Massey      M     5783 Evan Roads Apt. 465  ...  44.2529  -85.0170   \n",
       "\n",
       "   city_pop                     job         dob  \\\n",
       "0    333497     Mechanical engineer  1968-03-19   \n",
       "1       302  Sales professional, IT  1990-01-17   \n",
       "2     34496       Librarian, public  1970-10-21   \n",
       "3     54767            Set designer  1987-07-25   \n",
       "4      1126      Furniture designer  1955-07-06   \n",
       "\n",
       "                          trans_num   unix_time  merch_lat  merch_long  \\\n",
       "0  2da90c7d74bd46a0caf3777415b3ebd3  1371816865  33.986391  -81.200714   \n",
       "1  324cc204407e99f51b0d6ca0055005e7  1371816873  39.450498 -109.960431   \n",
       "2  c81755dbbbea9d5c77f094348a7579be  1371816893  40.495810  -74.196111   \n",
       "3  2159175b9efe66dc301f149d3d5abf8c  1371816915  28.812398  -80.883061   \n",
       "4  57ff021bd3f328f8738bb535c302a31b  1371816917  44.959148  -85.884734   \n",
       "\n",
       "   is_fraud  \n",
       "0         0  \n",
       "1         0  \n",
       "2         0  \n",
       "3         0  \n",
       "4         0  \n",
       "\n",
       "[5 rows x 23 columns]"
      ]
     },
     "execution_count": 2,
     "metadata": {},
     "output_type": "execute_result"
    }
   ],
   "source": [
    "# Importing the training dataset\n",
    "train = pd.read_csv('fraudTrain.csv')\n",
    "# Importing the test dataset\n",
    "test = pd.read_csv('fraudTest.csv')\n",
    "# Viewing the dataset head\n",
    "test.head(5)"
   ]
  },
  {
   "cell_type": "code",
   "execution_count": 3,
   "metadata": {
    "datalore": {
     "hide_input_from_viewers": true,
     "hide_output_from_viewers": true,
     "node_id": "8Lq7jrR5qQmcFPIxJ7FFqh",
     "type": "CODE"
    }
   },
   "outputs": [
    {
     "name": "stdout",
     "output_type": "stream",
     "text": [
      "(555719, 23)\n",
      "(1296675, 23)\n"
     ]
    },
    {
     "data": {
      "text/plain": [
       "(None, None)"
      ]
     },
     "execution_count": 3,
     "metadata": {},
     "output_type": "execute_result"
    }
   ],
   "source": [
    "# Printing the shape of the datasets\n",
    "print(test.shape),print(train.shape)"
   ]
  },
  {
   "cell_type": "code",
   "execution_count": 4,
   "metadata": {
    "datalore": {
     "hide_input_from_viewers": true,
     "hide_output_from_viewers": true,
     "node_id": "Ycc6MPpOQQzfvKSbD8dDd8",
     "type": "CODE"
    }
   },
   "outputs": [
    {
     "data": {
      "text/plain": [
       "Unnamed: 0               0\n",
       "trans_date_trans_time    0\n",
       "cc_num                   0\n",
       "merchant                 0\n",
       "category                 0\n",
       "amt                      0\n",
       "first                    0\n",
       "last                     0\n",
       "gender                   0\n",
       "street                   0\n",
       "city                     0\n",
       "state                    0\n",
       "zip                      0\n",
       "lat                      0\n",
       "long                     0\n",
       "city_pop                 0\n",
       "job                      0\n",
       "dob                      0\n",
       "trans_num                0\n",
       "unix_time                0\n",
       "merch_lat                0\n",
       "merch_long               0\n",
       "is_fraud                 0\n",
       "dtype: int64"
      ]
     },
     "execution_count": 4,
     "metadata": {},
     "output_type": "execute_result"
    }
   ],
   "source": [
    "# Viewing the null values from the test dataset\n",
    "test.isnull().sum()"
   ]
  },
  {
   "cell_type": "code",
   "execution_count": 5,
   "metadata": {
    "datalore": {
     "hide_input_from_viewers": true,
     "hide_output_from_viewers": true,
     "node_id": "hjrlGoJg3HzNoXEUWoPwSB",
     "type": "CODE"
    }
   },
   "outputs": [
    {
     "data": {
      "text/plain": [
       "Unnamed: 0               0\n",
       "trans_date_trans_time    0\n",
       "cc_num                   0\n",
       "merchant                 0\n",
       "category                 0\n",
       "amt                      0\n",
       "first                    0\n",
       "last                     0\n",
       "gender                   0\n",
       "street                   0\n",
       "city                     0\n",
       "state                    0\n",
       "zip                      0\n",
       "lat                      0\n",
       "long                     0\n",
       "city_pop                 0\n",
       "job                      0\n",
       "dob                      0\n",
       "trans_num                0\n",
       "unix_time                0\n",
       "merch_lat                0\n",
       "merch_long               0\n",
       "is_fraud                 0\n",
       "dtype: int64"
      ]
     },
     "execution_count": 5,
     "metadata": {},
     "output_type": "execute_result"
    }
   ],
   "source": [
    "# Viewing the null values from the train dataset\n",
    "train.isnull().sum()"
   ]
  },
  {
   "cell_type": "code",
   "execution_count": 6,
   "metadata": {
    "datalore": {
     "hide_input_from_viewers": true,
     "hide_output_from_viewers": true,
     "node_id": "Lq5q3jR2MudT7dXVyGxUuA",
     "type": "CODE"
    }
   },
   "outputs": [
    {
     "name": "stdout",
     "output_type": "stream",
     "text": [
      "<class 'pandas.core.frame.DataFrame'>\n",
      "RangeIndex: 555719 entries, 0 to 555718\n",
      "Data columns (total 23 columns):\n",
      " #   Column                 Non-Null Count   Dtype  \n",
      "---  ------                 --------------   -----  \n",
      " 0   Unnamed: 0             555719 non-null  int64  \n",
      " 1   trans_date_trans_time  555719 non-null  object \n",
      " 2   cc_num                 555719 non-null  int64  \n",
      " 3   merchant               555719 non-null  object \n",
      " 4   category               555719 non-null  object \n",
      " 5   amt                    555719 non-null  float64\n",
      " 6   first                  555719 non-null  object \n",
      " 7   last                   555719 non-null  object \n",
      " 8   gender                 555719 non-null  object \n",
      " 9   street                 555719 non-null  object \n",
      " 10  city                   555719 non-null  object \n",
      " 11  state                  555719 non-null  object \n",
      " 12  zip                    555719 non-null  int64  \n",
      " 13  lat                    555719 non-null  float64\n",
      " 14  long                   555719 non-null  float64\n",
      " 15  city_pop               555719 non-null  int64  \n",
      " 16  job                    555719 non-null  object \n",
      " 17  dob                    555719 non-null  object \n",
      " 18  trans_num              555719 non-null  object \n",
      " 19  unix_time              555719 non-null  int64  \n",
      " 20  merch_lat              555719 non-null  float64\n",
      " 21  merch_long             555719 non-null  float64\n",
      " 22  is_fraud               555719 non-null  int64  \n",
      "dtypes: float64(5), int64(6), object(12)\n",
      "memory usage: 97.5+ MB\n",
      "<class 'pandas.core.frame.DataFrame'>\n",
      "RangeIndex: 1296675 entries, 0 to 1296674\n",
      "Data columns (total 23 columns):\n",
      " #   Column                 Non-Null Count    Dtype  \n",
      "---  ------                 --------------    -----  \n",
      " 0   Unnamed: 0             1296675 non-null  int64  \n",
      " 1   trans_date_trans_time  1296675 non-null  object \n",
      " 2   cc_num                 1296675 non-null  int64  \n",
      " 3   merchant               1296675 non-null  object \n",
      " 4   category               1296675 non-null  object \n",
      " 5   amt                    1296675 non-null  float64\n",
      " 6   first                  1296675 non-null  object \n",
      " 7   last                   1296675 non-null  object \n",
      " 8   gender                 1296675 non-null  object \n",
      " 9   street                 1296675 non-null  object \n",
      " 10  city                   1296675 non-null  object \n",
      " 11  state                  1296675 non-null  object \n",
      " 12  zip                    1296675 non-null  int64  \n",
      " 13  lat                    1296675 non-null  float64\n",
      " 14  long                   1296675 non-null  float64\n",
      " 15  city_pop               1296675 non-null  int64  \n",
      " 16  job                    1296675 non-null  object \n",
      " 17  dob                    1296675 non-null  object \n",
      " 18  trans_num              1296675 non-null  object \n",
      " 19  unix_time              1296675 non-null  int64  \n",
      " 20  merch_lat              1296675 non-null  float64\n",
      " 21  merch_long             1296675 non-null  float64\n",
      " 22  is_fraud               1296675 non-null  int64  \n",
      "dtypes: float64(5), int64(6), object(12)\n",
      "memory usage: 227.5+ MB\n"
     ]
    },
    {
     "data": {
      "text/plain": [
       "(None, None)"
      ]
     },
     "execution_count": 6,
     "metadata": {},
     "output_type": "execute_result"
    }
   ],
   "source": [
    "# Viewing the train and test dataset information\n",
    "test.info(), train.info()"
   ]
  },
  {
   "cell_type": "code",
   "execution_count": 7,
   "metadata": {
    "datalore": {
     "hide_input_from_viewers": true,
     "hide_output_from_viewers": true,
     "node_id": "fEo9yAebp4DXkli92ziVU9",
     "type": "CODE"
    }
   },
   "outputs": [],
   "source": [
    "#Convert the 'trans_date_trans_time' column to datetime format.\n",
    "train['trans_date_trans_time'] = pd.to_datetime(train['trans_date_trans_time'])\n",
    "\n",
    "#Extract the date component from 'trans_date_trans_time' column and store it in a new 'trans_date' column in string format.\n",
    "train['trans_date'] = train['trans_date_trans_time'].dt.strftime('%Y-%m-%d')\n",
    "\n",
    "#Convert the 'trans_date' column to datetime format.\n",
    "train['trans_date'] = pd.to_datetime(train['trans_date'])\n",
    "\n",
    "#Convert the 'dob' column to datetime format.\n",
    "train['dob'] = pd.to_datetime(train['dob'])\n",
    "\n",
    "#Repeat the above steps for the 'test' dataset.\n",
    "#Convert the 'trans_date_trans_time' column to datetime format.\n",
    "test['trans_date_trans_time'] = pd.to_datetime(test['trans_date_trans_time'])\n",
    "\n",
    "#Extract the date component from 'trans_date_trans_time' column and store it in a new 'trans_date' column in string format.\n",
    "test['trans_date'] = test['trans_date_trans_time'].dt.strftime('%Y-%m-%d')\n",
    "\n",
    "#Convert the 'trans_date' column to datetime format.\n",
    "test['trans_date'] = pd.to_datetime(test['trans_date'])\n",
    "\n",
    "#Convert the 'dob' column to datetime format.\n",
    "test['dob'] = pd.to_datetime(test['dob'])"
   ]
  },
  {
   "cell_type": "code",
   "execution_count": 8,
   "metadata": {
    "datalore": {
     "hide_input_from_viewers": true,
     "hide_output_from_viewers": true,
     "node_id": "epwVOqfmWIIx5ZH4G56hiX",
     "type": "CODE"
    }
   },
   "outputs": [
    {
     "data": {
      "text/plain": [
       "(0   2020-06-21\n",
       " 1   2020-06-21\n",
       " 2   2020-06-21\n",
       " 3   2020-06-21\n",
       " 4   2020-06-21\n",
       " Name: trans_date, dtype: datetime64[ns],\n",
       " 0   1968-03-19\n",
       " 1   1990-01-17\n",
       " 2   1970-10-21\n",
       " 3   1987-07-25\n",
       " 4   1955-07-06\n",
       " Name: dob, dtype: datetime64[ns],\n",
       " 0   2019-01-01\n",
       " 1   2019-01-01\n",
       " 2   2019-01-01\n",
       " 3   2019-01-01\n",
       " 4   2019-01-01\n",
       " Name: trans_date, dtype: datetime64[ns],\n",
       " 0   1988-03-09\n",
       " 1   1978-06-21\n",
       " 2   1962-01-19\n",
       " 3   1967-01-12\n",
       " 4   1986-03-28\n",
       " Name: dob, dtype: datetime64[ns])"
      ]
     },
     "execution_count": 8,
     "metadata": {},
     "output_type": "execute_result"
    }
   ],
   "source": [
    "test.trans_date.head(),test.dob.head(),train.trans_date.head(),train.dob.head()"
   ]
  },
  {
   "cell_type": "code",
   "execution_count": 9,
   "metadata": {
    "datalore": {
     "hide_input_from_viewers": true,
     "hide_output_from_viewers": true,
     "node_id": "JhUIMZtlLa5raiogyDVqsT",
     "type": "CODE"
    }
   },
   "outputs": [
    {
     "data": {
      "text/html": [
       "<div>\n",
       "<style scoped>\n",
       "    .dataframe tbody tr th:only-of-type {\n",
       "        vertical-align: middle;\n",
       "    }\n",
       "\n",
       "    .dataframe tbody tr th {\n",
       "        vertical-align: top;\n",
       "    }\n",
       "\n",
       "    .dataframe thead th {\n",
       "        text-align: right;\n",
       "    }\n",
       "</style>\n",
       "<table border=\"1\" class=\"dataframe\">\n",
       "  <thead>\n",
       "    <tr style=\"text-align: right;\">\n",
       "      <th></th>\n",
       "      <th>trans_date_trans_time</th>\n",
       "      <th>cc_num</th>\n",
       "      <th>merchant</th>\n",
       "      <th>category</th>\n",
       "      <th>amt</th>\n",
       "      <th>first</th>\n",
       "      <th>last</th>\n",
       "      <th>gender</th>\n",
       "      <th>street</th>\n",
       "      <th>city</th>\n",
       "      <th>...</th>\n",
       "      <th>long</th>\n",
       "      <th>city_pop</th>\n",
       "      <th>job</th>\n",
       "      <th>dob</th>\n",
       "      <th>trans_num</th>\n",
       "      <th>unix_time</th>\n",
       "      <th>merch_lat</th>\n",
       "      <th>merch_long</th>\n",
       "      <th>is_fraud</th>\n",
       "      <th>trans_date</th>\n",
       "    </tr>\n",
       "  </thead>\n",
       "  <tbody>\n",
       "    <tr>\n",
       "      <th>0</th>\n",
       "      <td>2019-01-01 00:00:18</td>\n",
       "      <td>2703186189652095</td>\n",
       "      <td>fraud_Rippin, Kub and Mann</td>\n",
       "      <td>misc_net</td>\n",
       "      <td>4.97</td>\n",
       "      <td>Jennifer</td>\n",
       "      <td>Banks</td>\n",
       "      <td>F</td>\n",
       "      <td>561 Perry Cove</td>\n",
       "      <td>Moravian Falls</td>\n",
       "      <td>...</td>\n",
       "      <td>-81.1781</td>\n",
       "      <td>3495</td>\n",
       "      <td>Psychologist, counselling</td>\n",
       "      <td>1988-03-09</td>\n",
       "      <td>0b242abb623afc578575680df30655b9</td>\n",
       "      <td>1325376018</td>\n",
       "      <td>36.011293</td>\n",
       "      <td>-82.048315</td>\n",
       "      <td>0</td>\n",
       "      <td>2019-01-01</td>\n",
       "    </tr>\n",
       "    <tr>\n",
       "      <th>1</th>\n",
       "      <td>2019-01-01 00:00:44</td>\n",
       "      <td>630423337322</td>\n",
       "      <td>fraud_Heller, Gutmann and Zieme</td>\n",
       "      <td>grocery_pos</td>\n",
       "      <td>107.23</td>\n",
       "      <td>Stephanie</td>\n",
       "      <td>Gill</td>\n",
       "      <td>F</td>\n",
       "      <td>43039 Riley Greens Suite 393</td>\n",
       "      <td>Orient</td>\n",
       "      <td>...</td>\n",
       "      <td>-118.2105</td>\n",
       "      <td>149</td>\n",
       "      <td>Special educational needs teacher</td>\n",
       "      <td>1978-06-21</td>\n",
       "      <td>1f76529f8574734946361c461b024d99</td>\n",
       "      <td>1325376044</td>\n",
       "      <td>49.159047</td>\n",
       "      <td>-118.186462</td>\n",
       "      <td>0</td>\n",
       "      <td>2019-01-01</td>\n",
       "    </tr>\n",
       "    <tr>\n",
       "      <th>2</th>\n",
       "      <td>2019-01-01 00:00:51</td>\n",
       "      <td>38859492057661</td>\n",
       "      <td>fraud_Lind-Buckridge</td>\n",
       "      <td>entertainment</td>\n",
       "      <td>220.11</td>\n",
       "      <td>Edward</td>\n",
       "      <td>Sanchez</td>\n",
       "      <td>M</td>\n",
       "      <td>594 White Dale Suite 530</td>\n",
       "      <td>Malad City</td>\n",
       "      <td>...</td>\n",
       "      <td>-112.2620</td>\n",
       "      <td>4154</td>\n",
       "      <td>Nature conservation officer</td>\n",
       "      <td>1962-01-19</td>\n",
       "      <td>a1a22d70485983eac12b5b88dad1cf95</td>\n",
       "      <td>1325376051</td>\n",
       "      <td>43.150704</td>\n",
       "      <td>-112.154481</td>\n",
       "      <td>0</td>\n",
       "      <td>2019-01-01</td>\n",
       "    </tr>\n",
       "    <tr>\n",
       "      <th>3</th>\n",
       "      <td>2019-01-01 00:01:16</td>\n",
       "      <td>3534093764340240</td>\n",
       "      <td>fraud_Kutch, Hermiston and Farrell</td>\n",
       "      <td>gas_transport</td>\n",
       "      <td>45.00</td>\n",
       "      <td>Jeremy</td>\n",
       "      <td>White</td>\n",
       "      <td>M</td>\n",
       "      <td>9443 Cynthia Court Apt. 038</td>\n",
       "      <td>Boulder</td>\n",
       "      <td>...</td>\n",
       "      <td>-112.1138</td>\n",
       "      <td>1939</td>\n",
       "      <td>Patent attorney</td>\n",
       "      <td>1967-01-12</td>\n",
       "      <td>6b849c168bdad6f867558c3793159a81</td>\n",
       "      <td>1325376076</td>\n",
       "      <td>47.034331</td>\n",
       "      <td>-112.561071</td>\n",
       "      <td>0</td>\n",
       "      <td>2019-01-01</td>\n",
       "    </tr>\n",
       "    <tr>\n",
       "      <th>4</th>\n",
       "      <td>2019-01-01 00:03:06</td>\n",
       "      <td>375534208663984</td>\n",
       "      <td>fraud_Keeling-Crist</td>\n",
       "      <td>misc_pos</td>\n",
       "      <td>41.96</td>\n",
       "      <td>Tyler</td>\n",
       "      <td>Garcia</td>\n",
       "      <td>M</td>\n",
       "      <td>408 Bradley Rest</td>\n",
       "      <td>Doe Hill</td>\n",
       "      <td>...</td>\n",
       "      <td>-79.4629</td>\n",
       "      <td>99</td>\n",
       "      <td>Dance movement psychotherapist</td>\n",
       "      <td>1986-03-28</td>\n",
       "      <td>a41d7549acf90789359a9aa5346dcb46</td>\n",
       "      <td>1325376186</td>\n",
       "      <td>38.674999</td>\n",
       "      <td>-78.632459</td>\n",
       "      <td>0</td>\n",
       "      <td>2019-01-01</td>\n",
       "    </tr>\n",
       "  </tbody>\n",
       "</table>\n",
       "<p>5 rows × 23 columns</p>\n",
       "</div>"
      ],
      "text/plain": [
       "  trans_date_trans_time            cc_num                            merchant  \\\n",
       "0   2019-01-01 00:00:18  2703186189652095          fraud_Rippin, Kub and Mann   \n",
       "1   2019-01-01 00:00:44      630423337322     fraud_Heller, Gutmann and Zieme   \n",
       "2   2019-01-01 00:00:51    38859492057661                fraud_Lind-Buckridge   \n",
       "3   2019-01-01 00:01:16  3534093764340240  fraud_Kutch, Hermiston and Farrell   \n",
       "4   2019-01-01 00:03:06   375534208663984                 fraud_Keeling-Crist   \n",
       "\n",
       "        category     amt      first     last gender  \\\n",
       "0       misc_net    4.97   Jennifer    Banks      F   \n",
       "1    grocery_pos  107.23  Stephanie     Gill      F   \n",
       "2  entertainment  220.11     Edward  Sanchez      M   \n",
       "3  gas_transport   45.00     Jeremy    White      M   \n",
       "4       misc_pos   41.96      Tyler   Garcia      M   \n",
       "\n",
       "                         street            city  ...      long  city_pop  \\\n",
       "0                561 Perry Cove  Moravian Falls  ...  -81.1781      3495   \n",
       "1  43039 Riley Greens Suite 393          Orient  ... -118.2105       149   \n",
       "2      594 White Dale Suite 530      Malad City  ... -112.2620      4154   \n",
       "3   9443 Cynthia Court Apt. 038         Boulder  ... -112.1138      1939   \n",
       "4              408 Bradley Rest        Doe Hill  ...  -79.4629        99   \n",
       "\n",
       "                                 job        dob  \\\n",
       "0          Psychologist, counselling 1988-03-09   \n",
       "1  Special educational needs teacher 1978-06-21   \n",
       "2        Nature conservation officer 1962-01-19   \n",
       "3                    Patent attorney 1967-01-12   \n",
       "4     Dance movement psychotherapist 1986-03-28   \n",
       "\n",
       "                          trans_num   unix_time  merch_lat  merch_long  \\\n",
       "0  0b242abb623afc578575680df30655b9  1325376018  36.011293  -82.048315   \n",
       "1  1f76529f8574734946361c461b024d99  1325376044  49.159047 -118.186462   \n",
       "2  a1a22d70485983eac12b5b88dad1cf95  1325376051  43.150704 -112.154481   \n",
       "3  6b849c168bdad6f867558c3793159a81  1325376076  47.034331 -112.561071   \n",
       "4  a41d7549acf90789359a9aa5346dcb46  1325376186  38.674999  -78.632459   \n",
       "\n",
       "   is_fraud  trans_date  \n",
       "0         0  2019-01-01  \n",
       "1         0  2019-01-01  \n",
       "2         0  2019-01-01  \n",
       "3         0  2019-01-01  \n",
       "4         0  2019-01-01  \n",
       "\n",
       "[5 rows x 23 columns]"
      ]
     },
     "execution_count": 9,
     "metadata": {},
     "output_type": "execute_result"
    }
   ],
   "source": [
    "#Drop the 'Unnamed: 0' column from the 'train' dataset along the column axis.\n",
    "train.drop(\"Unnamed: 0\", axis=1, inplace=True)\n",
    "#Drop the 'Unnamed: 0' column from the 'test' dataset along the column axis.\n",
    "test.drop(\"Unnamed: 0\", axis=1, inplace=True)\n",
    "#Print the first five rows of the 'train' dataset to verify the changes.\n",
    "train.head()"
   ]
  },
  {
   "cell_type": "code",
   "execution_count": 10,
   "metadata": {
    "datalore": {
     "hide_input_from_viewers": true,
     "hide_output_from_viewers": true,
     "node_id": "rWF4OMGed55QTjRx8unwe3",
     "type": "CODE"
    }
   },
   "outputs": [
    {
     "name": "stdout",
     "output_type": "stream",
     "text": [
      "<class 'pandas.core.frame.DataFrame'>\n",
      "Int64Index: 1852394 entries, 0 to 1296674\n",
      "Data columns (total 23 columns):\n",
      " #   Column                 Dtype         \n",
      "---  ------                 -----         \n",
      " 0   trans_date_trans_time  datetime64[ns]\n",
      " 1   cc_num                 int64         \n",
      " 2   merchant               object        \n",
      " 3   category               object        \n",
      " 4   amt                    float64       \n",
      " 5   first                  object        \n",
      " 6   last                   object        \n",
      " 7   gender                 object        \n",
      " 8   street                 object        \n",
      " 9   city                   object        \n",
      " 10  state                  object        \n",
      " 11  zip                    int64         \n",
      " 12  lat                    float64       \n",
      " 13  long                   float64       \n",
      " 14  city_pop               int64         \n",
      " 15  job                    object        \n",
      " 16  dob                    datetime64[ns]\n",
      " 17  trans_num              object        \n",
      " 18  unix_time              int64         \n",
      " 19  merch_lat              float64       \n",
      " 20  merch_long             float64       \n",
      " 21  is_fraud               int64         \n",
      " 22  trans_date             datetime64[ns]\n",
      "dtypes: datetime64[ns](3), float64(5), int64(5), object(10)\n",
      "memory usage: 339.2+ MB\n"
     ]
    }
   ],
   "source": [
    "#Concatenate the 'test' and 'train' datasets vertically to create a new dataframe 'total'.\n",
    "total = pd.concat([test, train])\n",
    "\n",
    "#Display the information about the concatenated dataframe 'total'.\n",
    "total.info()"
   ]
  },
  {
   "cell_type": "code",
   "execution_count": 11,
   "metadata": {
    "datalore": {
     "hide_input_from_viewers": true,
     "hide_output_from_viewers": true,
     "node_id": "oHAajWDJkUgLcsOCRngtBx",
     "type": "CODE"
    }
   },
   "outputs": [
    {
     "data": {
      "text/plain": [
       "0          F\n",
       "1          F\n",
       "2          F\n",
       "3          F\n",
       "4          F\n",
       "          ..\n",
       "1296670    F\n",
       "1296671    F\n",
       "1296672    F\n",
       "1296673    F\n",
       "1296674    F\n",
       "Name: is_fraud_cat, Length: 1852394, dtype: object"
      ]
     },
     "execution_count": 11,
     "metadata": {},
     "output_type": "execute_result"
    }
   ],
   "source": [
    "#If the value in the 'is_fraud' column is equal to 1, then the value in the 'is_fraud_cat' column is 'T', else 'F'.\n",
    "total[\"is_fraud_cat\"] = total.is_fraud.apply(lambda x: \"T\" if x==1 else \"F\")\n",
    "#Convert the 'is_fraud_cat' column to object datatype.\n",
    "total[\"is_fraud_cat\"].astype(\"object\")"
   ]
  },
  {
   "cell_type": "code",
   "execution_count": 12,
   "metadata": {
    "datalore": {
     "hide_input_from_viewers": true,
     "hide_output_from_viewers": true,
     "node_id": "Ty6TM36U6DtqnypDlcLaWy",
     "type": "CODE"
    }
   },
   "outputs": [],
   "source": [
    "# Select the columns in the 'total' dataframe that have object datatype, which includes categorical columns.\n",
    "totalcat=total.select_dtypes(include=['object'])"
   ]
  },
  {
   "cell_type": "code",
   "execution_count": 13,
   "metadata": {
    "datalore": {
     "hide_input_from_viewers": true,
     "hide_output_from_viewers": true,
     "node_id": "XDDSrtASE42QNs9qpiMMZJ",
     "type": "CODE"
    }
   },
   "outputs": [
    {
     "data": {
      "text/html": [
       "<div>\n",
       "<style scoped>\n",
       "    .dataframe tbody tr th:only-of-type {\n",
       "        vertical-align: middle;\n",
       "    }\n",
       "\n",
       "    .dataframe tbody tr th {\n",
       "        vertical-align: top;\n",
       "    }\n",
       "\n",
       "    .dataframe thead th {\n",
       "        text-align: right;\n",
       "    }\n",
       "</style>\n",
       "<table border=\"1\" class=\"dataframe\">\n",
       "  <thead>\n",
       "    <tr style=\"text-align: right;\">\n",
       "      <th></th>\n",
       "      <th>merchant</th>\n",
       "      <th>category</th>\n",
       "      <th>first</th>\n",
       "      <th>last</th>\n",
       "      <th>gender</th>\n",
       "      <th>street</th>\n",
       "      <th>city</th>\n",
       "      <th>state</th>\n",
       "      <th>job</th>\n",
       "      <th>trans_num</th>\n",
       "      <th>is_fraud_cat</th>\n",
       "    </tr>\n",
       "  </thead>\n",
       "  <tbody>\n",
       "    <tr>\n",
       "      <th>0</th>\n",
       "      <td>fraud_Kirlin and Sons</td>\n",
       "      <td>personal_care</td>\n",
       "      <td>Jeff</td>\n",
       "      <td>Elliott</td>\n",
       "      <td>M</td>\n",
       "      <td>351 Darlene Green</td>\n",
       "      <td>Columbia</td>\n",
       "      <td>SC</td>\n",
       "      <td>Mechanical engineer</td>\n",
       "      <td>2da90c7d74bd46a0caf3777415b3ebd3</td>\n",
       "      <td>F</td>\n",
       "    </tr>\n",
       "    <tr>\n",
       "      <th>1</th>\n",
       "      <td>fraud_Sporer-Keebler</td>\n",
       "      <td>personal_care</td>\n",
       "      <td>Joanne</td>\n",
       "      <td>Williams</td>\n",
       "      <td>F</td>\n",
       "      <td>3638 Marsh Union</td>\n",
       "      <td>Altonah</td>\n",
       "      <td>UT</td>\n",
       "      <td>Sales professional, IT</td>\n",
       "      <td>324cc204407e99f51b0d6ca0055005e7</td>\n",
       "      <td>F</td>\n",
       "    </tr>\n",
       "    <tr>\n",
       "      <th>2</th>\n",
       "      <td>fraud_Swaniawski, Nitzsche and Welch</td>\n",
       "      <td>health_fitness</td>\n",
       "      <td>Ashley</td>\n",
       "      <td>Lopez</td>\n",
       "      <td>F</td>\n",
       "      <td>9333 Valentine Point</td>\n",
       "      <td>Bellmore</td>\n",
       "      <td>NY</td>\n",
       "      <td>Librarian, public</td>\n",
       "      <td>c81755dbbbea9d5c77f094348a7579be</td>\n",
       "      <td>F</td>\n",
       "    </tr>\n",
       "    <tr>\n",
       "      <th>3</th>\n",
       "      <td>fraud_Haley Group</td>\n",
       "      <td>misc_pos</td>\n",
       "      <td>Brian</td>\n",
       "      <td>Williams</td>\n",
       "      <td>M</td>\n",
       "      <td>32941 Krystal Mill Apt. 552</td>\n",
       "      <td>Titusville</td>\n",
       "      <td>FL</td>\n",
       "      <td>Set designer</td>\n",
       "      <td>2159175b9efe66dc301f149d3d5abf8c</td>\n",
       "      <td>F</td>\n",
       "    </tr>\n",
       "    <tr>\n",
       "      <th>4</th>\n",
       "      <td>fraud_Johnston-Casper</td>\n",
       "      <td>travel</td>\n",
       "      <td>Nathan</td>\n",
       "      <td>Massey</td>\n",
       "      <td>M</td>\n",
       "      <td>5783 Evan Roads Apt. 465</td>\n",
       "      <td>Falmouth</td>\n",
       "      <td>MI</td>\n",
       "      <td>Furniture designer</td>\n",
       "      <td>57ff021bd3f328f8738bb535c302a31b</td>\n",
       "      <td>F</td>\n",
       "    </tr>\n",
       "    <tr>\n",
       "      <th>...</th>\n",
       "      <td>...</td>\n",
       "      <td>...</td>\n",
       "      <td>...</td>\n",
       "      <td>...</td>\n",
       "      <td>...</td>\n",
       "      <td>...</td>\n",
       "      <td>...</td>\n",
       "      <td>...</td>\n",
       "      <td>...</td>\n",
       "      <td>...</td>\n",
       "      <td>...</td>\n",
       "    </tr>\n",
       "    <tr>\n",
       "      <th>1296670</th>\n",
       "      <td>fraud_Reichel Inc</td>\n",
       "      <td>entertainment</td>\n",
       "      <td>Erik</td>\n",
       "      <td>Patterson</td>\n",
       "      <td>M</td>\n",
       "      <td>162 Jessica Row Apt. 072</td>\n",
       "      <td>Hatch</td>\n",
       "      <td>UT</td>\n",
       "      <td>Geoscientist</td>\n",
       "      <td>440b587732da4dc1a6395aba5fb41669</td>\n",
       "      <td>F</td>\n",
       "    </tr>\n",
       "    <tr>\n",
       "      <th>1296671</th>\n",
       "      <td>fraud_Abernathy and Sons</td>\n",
       "      <td>food_dining</td>\n",
       "      <td>Jeffrey</td>\n",
       "      <td>White</td>\n",
       "      <td>M</td>\n",
       "      <td>8617 Holmes Terrace Suite 651</td>\n",
       "      <td>Tuscarora</td>\n",
       "      <td>MD</td>\n",
       "      <td>Production assistant, television</td>\n",
       "      <td>278000d2e0d2277d1de2f890067dcc0a</td>\n",
       "      <td>F</td>\n",
       "    </tr>\n",
       "    <tr>\n",
       "      <th>1296672</th>\n",
       "      <td>fraud_Stiedemann Ltd</td>\n",
       "      <td>food_dining</td>\n",
       "      <td>Christopher</td>\n",
       "      <td>Castaneda</td>\n",
       "      <td>M</td>\n",
       "      <td>1632 Cohen Drive Suite 639</td>\n",
       "      <td>High Rolls Mountain Park</td>\n",
       "      <td>NM</td>\n",
       "      <td>Naval architect</td>\n",
       "      <td>483f52fe67fabef353d552c1e662974c</td>\n",
       "      <td>F</td>\n",
       "    </tr>\n",
       "    <tr>\n",
       "      <th>1296673</th>\n",
       "      <td>fraud_Reinger, Weissnat and Strosin</td>\n",
       "      <td>food_dining</td>\n",
       "      <td>Joseph</td>\n",
       "      <td>Murray</td>\n",
       "      <td>M</td>\n",
       "      <td>42933 Ryan Underpass</td>\n",
       "      <td>Manderson</td>\n",
       "      <td>SD</td>\n",
       "      <td>Volunteer coordinator</td>\n",
       "      <td>d667cdcbadaaed3da3f4020e83591c83</td>\n",
       "      <td>F</td>\n",
       "    </tr>\n",
       "    <tr>\n",
       "      <th>1296674</th>\n",
       "      <td>fraud_Langosh, Wintheiser and Hyatt</td>\n",
       "      <td>food_dining</td>\n",
       "      <td>Jeffrey</td>\n",
       "      <td>Smith</td>\n",
       "      <td>M</td>\n",
       "      <td>135 Joseph Mountains</td>\n",
       "      <td>Sula</td>\n",
       "      <td>MT</td>\n",
       "      <td>Therapist, horticultural</td>\n",
       "      <td>8f7c8e4ab7f25875d753b422917c98c9</td>\n",
       "      <td>F</td>\n",
       "    </tr>\n",
       "  </tbody>\n",
       "</table>\n",
       "<p>1852394 rows × 11 columns</p>\n",
       "</div>"
      ],
      "text/plain": [
       "                                     merchant        category        first  \\\n",
       "0                       fraud_Kirlin and Sons   personal_care         Jeff   \n",
       "1                        fraud_Sporer-Keebler   personal_care       Joanne   \n",
       "2        fraud_Swaniawski, Nitzsche and Welch  health_fitness       Ashley   \n",
       "3                           fraud_Haley Group        misc_pos        Brian   \n",
       "4                       fraud_Johnston-Casper          travel       Nathan   \n",
       "...                                       ...             ...          ...   \n",
       "1296670                     fraud_Reichel Inc   entertainment         Erik   \n",
       "1296671              fraud_Abernathy and Sons     food_dining      Jeffrey   \n",
       "1296672                  fraud_Stiedemann Ltd     food_dining  Christopher   \n",
       "1296673   fraud_Reinger, Weissnat and Strosin     food_dining       Joseph   \n",
       "1296674   fraud_Langosh, Wintheiser and Hyatt     food_dining      Jeffrey   \n",
       "\n",
       "              last gender                         street  \\\n",
       "0          Elliott      M              351 Darlene Green   \n",
       "1         Williams      F               3638 Marsh Union   \n",
       "2            Lopez      F           9333 Valentine Point   \n",
       "3         Williams      M    32941 Krystal Mill Apt. 552   \n",
       "4           Massey      M       5783 Evan Roads Apt. 465   \n",
       "...            ...    ...                            ...   \n",
       "1296670  Patterson      M       162 Jessica Row Apt. 072   \n",
       "1296671      White      M  8617 Holmes Terrace Suite 651   \n",
       "1296672  Castaneda      M     1632 Cohen Drive Suite 639   \n",
       "1296673     Murray      M           42933 Ryan Underpass   \n",
       "1296674      Smith      M           135 Joseph Mountains   \n",
       "\n",
       "                             city state                               job  \\\n",
       "0                        Columbia    SC               Mechanical engineer   \n",
       "1                         Altonah    UT            Sales professional, IT   \n",
       "2                        Bellmore    NY                 Librarian, public   \n",
       "3                      Titusville    FL                      Set designer   \n",
       "4                        Falmouth    MI                Furniture designer   \n",
       "...                           ...   ...                               ...   \n",
       "1296670                     Hatch    UT                      Geoscientist   \n",
       "1296671                 Tuscarora    MD  Production assistant, television   \n",
       "1296672  High Rolls Mountain Park    NM                   Naval architect   \n",
       "1296673                 Manderson    SD             Volunteer coordinator   \n",
       "1296674                      Sula    MT          Therapist, horticultural   \n",
       "\n",
       "                                trans_num is_fraud_cat  \n",
       "0        2da90c7d74bd46a0caf3777415b3ebd3            F  \n",
       "1        324cc204407e99f51b0d6ca0055005e7            F  \n",
       "2        c81755dbbbea9d5c77f094348a7579be            F  \n",
       "3        2159175b9efe66dc301f149d3d5abf8c            F  \n",
       "4        57ff021bd3f328f8738bb535c302a31b            F  \n",
       "...                                   ...          ...  \n",
       "1296670  440b587732da4dc1a6395aba5fb41669            F  \n",
       "1296671  278000d2e0d2277d1de2f890067dcc0a            F  \n",
       "1296672  483f52fe67fabef353d552c1e662974c            F  \n",
       "1296673  d667cdcbadaaed3da3f4020e83591c83            F  \n",
       "1296674  8f7c8e4ab7f25875d753b422917c98c9            F  \n",
       "\n",
       "[1852394 rows x 11 columns]"
      ]
     },
     "execution_count": 13,
     "metadata": {},
     "output_type": "execute_result"
    }
   ],
   "source": [
    "# Select the subset of the 'total' dataframe that includes only the columns with categorical datatype.\n",
    "total[totalcat.columns]"
   ]
  },
  {
   "cell_type": "code",
   "execution_count": 14,
   "metadata": {
    "datalore": {
     "hide_input_from_viewers": true,
     "hide_output_from_viewers": true,
     "node_id": "Nzc2FCykOGm8pu9H73QmYy",
     "type": "CODE"
    }
   },
   "outputs": [
    {
     "data": {
      "image/png": "[encoded data removed]",
      "text/plain": [
       "<Figure size 1080x432 with 1 Axes>"
      ]
     },
     "metadata": {},
     "output_type": "display_data"
    }
   ],
   "source": [
    "# create a figure instance with a given size\n",
    "fig = plt.figure(figsize=(15, 6))\n",
    "\n",
    "# create a countplot using seaborn\n",
    "ax = sns.countplot(x='category', data=total[total['is_fraud_cat'] == \"T\"], palette='Set2')\n",
    "\n",
    "# set the x-axis labels to 45-degree rotation\n",
    "ax.set_xticklabels(ax.get_xticklabels(), rotation=90)\n",
    "\n",
    "# set the title of the figure\n",
    "plt.title(\"Fraudulent Transactions by Category\")\n",
    "\n",
    "# set the color of the figure background\n",
    "fig.patch.set_facecolor('#F2F2F2')\n",
    "\n",
    "# set the color of the axes\n",
    "ax.spines['bottom'].set_color('#8B8B8B')\n",
    "ax.spines['top'].set_color('#8B8B8B')\n",
    "ax.spines['right'].set_color('#8B8B8B')\n",
    "ax.spines['left'].set_color('#8B8B8B')\n",
    "\n",
    "# set the color of the ticks\n",
    "ax.tick_params(axis='x', colors='#8B8B8B')\n",
    "ax.tick_params(axis='y', colors='#8B8B8B')\n",
    "\n",
    "# show the figure\n",
    "plt.show()"
   ]
  },
  {
   "cell_type": "code",
   "execution_count": 15,
   "metadata": {
    "datalore": {
     "hide_input_from_viewers": true,
     "hide_output_from_viewers": true,
     "node_id": "QEp6ALfqvfto60BxJnqyDD",
     "type": "CODE"
    }
   },
   "outputs": [
    {
     "data": {
      "image/png": "[encoded data removed]",
      "text/plain": [
       "<Figure size 1080x432 with 1 Axes>"
      ]
     },
     "metadata": {},
     "output_type": "display_data"
    }
   ],
   "source": [
    "# create a figure instance with a given size\n",
    "fig = plt.figure(figsize=(15, 6))\n",
    "\n",
    "# create a countplot using seaborn\n",
    "ax = sns.countplot(x='gender', data=total[total['is_fraud_cat'] == \"T\"], palette='Dark2')\n",
    "\n",
    "# set the x-axis labels to 45-degree rotation\n",
    "ax.set_xticklabels(ax.get_xticklabels(), rotation=0)\n",
    "\n",
    "# set the title of the figure\n",
    "plt.title(\"Fraudulent Transactions by Gender\")\n",
    "\n",
    "# set the color of the figure background\n",
    "fig.patch.set_facecolor('#F2F2F2')\n",
    "\n",
    "# set the color of the axes\n",
    "ax.spines['bottom'].set_color('#8B8B8B')\n",
    "ax.spines['top'].set_color('#8B8B8B')\n",
    "ax.spines['right'].set_color('#8B8B8B')\n",
    "ax.spines['left'].set_color('#8B8B8B')\n",
    "\n",
    "# set the color of the ticks\n",
    "ax.tick_params(axis='x', colors='#8B8B8B')\n",
    "ax.tick_params(axis='y', colors='#8B8B8B')\n",
    "\n",
    "# show the figure\n",
    "plt.show()"
   ]
  },
  {
   "cell_type": "code",
   "execution_count": 16,
   "metadata": {
    "datalore": {
     "hide_input_from_viewers": true,
     "hide_output_from_viewers": true,
     "node_id": "Zyb5RAaurBjdhXVWZvwNhU",
     "type": "CODE"
    }
   },
   "outputs": [
    {
     "data": {
      "image/png": "[encoded data removed]",
      "text/plain": [
       "<Figure size 1440x720 with 1 Axes>"
      ]
     },
     "metadata": {
      "needs_background": "light"
     },
     "output_type": "display_data"
    }
   ],
   "source": [
    "#Create figure with desired size and name\n",
    "fig, ax = plt.subplots(figsize=(20, 10))\n",
    "fig.suptitle(\"Credit Card Frauds by State\", fontsize=20)\n",
    "\n",
    "#Set color palette for the plot\n",
    "colors = sns.color_palette(\"muted\")\n",
    "\n",
    "#Create countplot with the desired variables and order\n",
    "sns.countplot(data=total[total['is_fraud_cat']==\"T\"], x='state', order=total['state'].value_counts().index, palette=colors)\n",
    "\n",
    "#Rotate x-axis labels for better readability\n",
    "plt.xticks(rotation=90)\n",
    "\n",
    "#Set axis labels and title\n",
    "ax.set_xlabel('State', fontsize=16)\n",
    "ax.set_ylabel('Number of Frauds', fontsize=16)\n",
    "\n",
    "\n",
    "# Display the plot\n",
    "plt.show()"
   ]
  },
  {
   "cell_type": "code",
   "execution_count": 17,
   "metadata": {
    "datalore": {
     "hide_input_from_viewers": true,
     "hide_output_from_viewers": true,
     "node_id": "R7fDFQgnr49iTtFVli2hCY",
     "type": "CODE"
    }
   },
   "outputs": [
    {
     "data": {
      "image/png": "[encoded data removed]",
      "text/plain": [
       "<Figure size 1080x576 with 1 Axes>"
      ]
     },
     "metadata": {
      "needs_background": "light"
     },
     "output_type": "display_data"
    }
   ],
   "source": [
    "import random\n",
    "\n",
    "#Define function to generate random colors\n",
    "def randomcolor():\n",
    "    r = random.random()\n",
    "    b = random.random()\n",
    "    g = random.random()\n",
    "    rgb = [r,g,b]\n",
    "    return rgb\n",
    "\n",
    "#Create figure with desired size and name\n",
    "fig, ax = plt.subplots(figsize=(15, 8))\n",
    "fig.suptitle(\"Credit Card Frauds by City\", fontsize=18)\n",
    "\n",
    "#Generate a bar plot with desired variables\n",
    "total[total['is_fraud_cat']==\"T\"][\"city\"].value_counts(sort=True, ascending=False).head(10).plot(kind=\"bar\", ax=ax, color=randomcolor())\n",
    "\n",
    "#Set axis labels and title\n",
    "ax.set_xlabel('City', fontsize=14)\n",
    "ax.set_ylabel('Number of Frauds', fontsize=14)\n",
    "\n",
    "#Display the plot\n",
    "plt.show()"
   ]
  },
  {
   "cell_type": "code",
   "execution_count": 18,
   "metadata": {
    "datalore": {
     "hide_input_from_viewers": true,
     "hide_output_from_viewers": true,
     "node_id": "QScTE95HvUm7blWg61navv",
     "type": "CODE"
    }
   },
   "outputs": [
    {
     "data": {
      "image/png": "[encoded data removed]",
      "text/plain": [
       "<Figure size 864x576 with 1 Axes>"
      ]
     },
     "metadata": {
      "needs_background": "light"
     },
     "output_type": "display_data"
    }
   ],
   "source": [
    "#Create figure with desired size and name\n",
    "fig, ax = plt.subplots(figsize=(12, 8))\n",
    "fig.suptitle(\"Credit Card Frauds by Job\", fontsize=18)\n",
    "\n",
    "#Generate a bar plot with desired variables\n",
    "fraud_jobs = total[total['is_fraud_cat'] == \"T\"][\"job\"].value_counts().head(10)\n",
    "sns.barplot(x=fraud_jobs.values, y=fraud_jobs.index, ax=ax, palette=\"viridis\")\n",
    "\n",
    "#Set axis labels and title\n",
    "ax.set_xlabel('Number of Frauds', fontsize=20)\n",
    "ax.set_ylabel('Job', fontsize=20)\n",
    "\n",
    "#Display the plot\n",
    "plt.show()"
   ]
  },
  {
   "cell_type": "code",
   "execution_count": 19,
   "metadata": {
    "datalore": {
     "hide_input_from_viewers": true,
     "hide_output_from_viewers": true,
     "node_id": "8qk7swU2FMVAXmattr7lG1",
     "type": "CODE"
    }
   },
   "outputs": [],
   "source": [
    "# Delete the 'is_fraud_cat' column from the 'total' dataframe.\n",
    "del total['is_fraud_cat']\n",
    "# Import the 'norm' and 'skew' functions from the 'scipy.stats' library.\n",
    "from scipy.stats import norm, skew"
   ]
  },
  {
   "cell_type": "code",
   "execution_count": 20,
   "metadata": {
    "datalore": {
     "hide_input_from_viewers": true,
     "hide_output_from_viewers": true,
     "node_id": "xwZinSBimKPNYk0ox1R2gK",
     "type": "CODE"
    }
   },
   "outputs": [
    {
     "data": {
      "text/html": [
       "<div>\n",
       "<style scoped>\n",
       "    .dataframe tbody tr th:only-of-type {\n",
       "        vertical-align: middle;\n",
       "    }\n",
       "\n",
       "    .dataframe tbody tr th {\n",
       "        vertical-align: top;\n",
       "    }\n",
       "\n",
       "    .dataframe thead th {\n",
       "        text-align: right;\n",
       "    }\n",
       "</style>\n",
       "<table border=\"1\" class=\"dataframe\">\n",
       "  <thead>\n",
       "    <tr style=\"text-align: right;\">\n",
       "      <th></th>\n",
       "      <th>cc_num</th>\n",
       "      <th>amt</th>\n",
       "      <th>zip</th>\n",
       "      <th>lat</th>\n",
       "      <th>long</th>\n",
       "      <th>city_pop</th>\n",
       "      <th>unix_time</th>\n",
       "      <th>merch_lat</th>\n",
       "      <th>merch_long</th>\n",
       "      <th>is_fraud</th>\n",
       "    </tr>\n",
       "  </thead>\n",
       "  <tbody>\n",
       "    <tr>\n",
       "      <th>0</th>\n",
       "      <td>2291163933867244</td>\n",
       "      <td>2.86</td>\n",
       "      <td>29209</td>\n",
       "      <td>33.9659</td>\n",
       "      <td>-80.9355</td>\n",
       "      <td>333497</td>\n",
       "      <td>1371816865</td>\n",
       "      <td>33.986391</td>\n",
       "      <td>-81.200714</td>\n",
       "      <td>0</td>\n",
       "    </tr>\n",
       "    <tr>\n",
       "      <th>1</th>\n",
       "      <td>3573030041201292</td>\n",
       "      <td>29.84</td>\n",
       "      <td>84002</td>\n",
       "      <td>40.3207</td>\n",
       "      <td>-110.4360</td>\n",
       "      <td>302</td>\n",
       "      <td>1371816873</td>\n",
       "      <td>39.450498</td>\n",
       "      <td>-109.960431</td>\n",
       "      <td>0</td>\n",
       "    </tr>\n",
       "    <tr>\n",
       "      <th>2</th>\n",
       "      <td>3598215285024754</td>\n",
       "      <td>41.28</td>\n",
       "      <td>11710</td>\n",
       "      <td>40.6729</td>\n",
       "      <td>-73.5365</td>\n",
       "      <td>34496</td>\n",
       "      <td>1371816893</td>\n",
       "      <td>40.495810</td>\n",
       "      <td>-74.196111</td>\n",
       "      <td>0</td>\n",
       "    </tr>\n",
       "    <tr>\n",
       "      <th>3</th>\n",
       "      <td>3591919803438423</td>\n",
       "      <td>60.05</td>\n",
       "      <td>32780</td>\n",
       "      <td>28.5697</td>\n",
       "      <td>-80.8191</td>\n",
       "      <td>54767</td>\n",
       "      <td>1371816915</td>\n",
       "      <td>28.812398</td>\n",
       "      <td>-80.883061</td>\n",
       "      <td>0</td>\n",
       "    </tr>\n",
       "    <tr>\n",
       "      <th>4</th>\n",
       "      <td>3526826139003047</td>\n",
       "      <td>3.19</td>\n",
       "      <td>49632</td>\n",
       "      <td>44.2529</td>\n",
       "      <td>-85.0170</td>\n",
       "      <td>1126</td>\n",
       "      <td>1371816917</td>\n",
       "      <td>44.959148</td>\n",
       "      <td>-85.884734</td>\n",
       "      <td>0</td>\n",
       "    </tr>\n",
       "    <tr>\n",
       "      <th>...</th>\n",
       "      <td>...</td>\n",
       "      <td>...</td>\n",
       "      <td>...</td>\n",
       "      <td>...</td>\n",
       "      <td>...</td>\n",
       "      <td>...</td>\n",
       "      <td>...</td>\n",
       "      <td>...</td>\n",
       "      <td>...</td>\n",
       "      <td>...</td>\n",
       "    </tr>\n",
       "    <tr>\n",
       "      <th>555714</th>\n",
       "      <td>30560609640617</td>\n",
       "      <td>43.77</td>\n",
       "      <td>63453</td>\n",
       "      <td>40.4931</td>\n",
       "      <td>-91.8912</td>\n",
       "      <td>519</td>\n",
       "      <td>1388534347</td>\n",
       "      <td>39.946837</td>\n",
       "      <td>-91.333331</td>\n",
       "      <td>0</td>\n",
       "    </tr>\n",
       "    <tr>\n",
       "      <th>555715</th>\n",
       "      <td>3556613125071656</td>\n",
       "      <td>111.84</td>\n",
       "      <td>77566</td>\n",
       "      <td>29.0393</td>\n",
       "      <td>-95.4401</td>\n",
       "      <td>28739</td>\n",
       "      <td>1388534349</td>\n",
       "      <td>29.661049</td>\n",
       "      <td>-96.186633</td>\n",
       "      <td>0</td>\n",
       "    </tr>\n",
       "    <tr>\n",
       "      <th>555716</th>\n",
       "      <td>6011724471098086</td>\n",
       "      <td>86.88</td>\n",
       "      <td>99323</td>\n",
       "      <td>46.1966</td>\n",
       "      <td>-118.9017</td>\n",
       "      <td>3684</td>\n",
       "      <td>1388534355</td>\n",
       "      <td>46.658340</td>\n",
       "      <td>-119.715054</td>\n",
       "      <td>0</td>\n",
       "    </tr>\n",
       "    <tr>\n",
       "      <th>555717</th>\n",
       "      <td>4079773899158</td>\n",
       "      <td>7.99</td>\n",
       "      <td>83643</td>\n",
       "      <td>44.6255</td>\n",
       "      <td>-116.4493</td>\n",
       "      <td>129</td>\n",
       "      <td>1388534364</td>\n",
       "      <td>44.470525</td>\n",
       "      <td>-117.080888</td>\n",
       "      <td>0</td>\n",
       "    </tr>\n",
       "    <tr>\n",
       "      <th>555718</th>\n",
       "      <td>4170689372027579</td>\n",
       "      <td>38.13</td>\n",
       "      <td>73034</td>\n",
       "      <td>35.6665</td>\n",
       "      <td>-97.4798</td>\n",
       "      <td>116001</td>\n",
       "      <td>1388534374</td>\n",
       "      <td>36.210097</td>\n",
       "      <td>-97.036372</td>\n",
       "      <td>0</td>\n",
       "    </tr>\n",
       "  </tbody>\n",
       "</table>\n",
       "<p>555719 rows × 10 columns</p>\n",
       "</div>"
      ],
      "text/plain": [
       "                  cc_num     amt    zip      lat      long  city_pop  \\\n",
       "0       2291163933867244    2.86  29209  33.9659  -80.9355    333497   \n",
       "1       3573030041201292   29.84  84002  40.3207 -110.4360       302   \n",
       "2       3598215285024754   41.28  11710  40.6729  -73.5365     34496   \n",
       "3       3591919803438423   60.05  32780  28.5697  -80.8191     54767   \n",
       "4       3526826139003047    3.19  49632  44.2529  -85.0170      1126   \n",
       "...                  ...     ...    ...      ...       ...       ...   \n",
       "555714    30560609640617   43.77  63453  40.4931  -91.8912       519   \n",
       "555715  3556613125071656  111.84  77566  29.0393  -95.4401     28739   \n",
       "555716  6011724471098086   86.88  99323  46.1966 -118.9017      3684   \n",
       "555717     4079773899158    7.99  83643  44.6255 -116.4493       129   \n",
       "555718  4170689372027579   38.13  73034  35.6665  -97.4798    116001   \n",
       "\n",
       "         unix_time  merch_lat  merch_long  is_fraud  \n",
       "0       1371816865  33.986391  -81.200714         0  \n",
       "1       1371816873  39.450498 -109.960431         0  \n",
       "2       1371816893  40.495810  -74.196111         0  \n",
       "3       1371816915  28.812398  -80.883061         0  \n",
       "4       1371816917  44.959148  -85.884734         0  \n",
       "...            ...        ...         ...       ...  \n",
       "555714  1388534347  39.946837  -91.333331         0  \n",
       "555715  1388534349  29.661049  -96.186633         0  \n",
       "555716  1388534355  46.658340 -119.715054         0  \n",
       "555717  1388534364  44.470525 -117.080888         0  \n",
       "555718  1388534374  36.210097  -97.036372         0  \n",
       "\n",
       "[555719 rows x 10 columns]"
      ]
     },
     "execution_count": 20,
     "metadata": {},
     "output_type": "execute_result"
    }
   ],
   "source": [
    "# Select the columns in the 'test' dataframe that have numerical datatype.\n",
    "testnum = test.select_dtypes(include=np.number)\n",
    "# Select the subset of the 'test' dataframe that includes only the columns with numerical datatype.\n",
    "test[testnum.columns]"
   ]
  },
  {
   "cell_type": "code",
   "execution_count": 21,
   "metadata": {
    "datalore": {
     "hide_input_from_viewers": true,
     "hide_output_from_viewers": true,
     "node_id": "So9w0lDWyD2zkJm5HrVji7",
     "type": "CODE"
    }
   },
   "outputs": [
    {
     "data": {
      "text/plain": [
       "trans_date_trans_time    0\n",
       "cc_num                   0\n",
       "merchant                 0\n",
       "category                 0\n",
       "amt                      0\n",
       "first                    0\n",
       "last                     0\n",
       "gender                   0\n",
       "street                   0\n",
       "city                     0\n",
       "state                    0\n",
       "zip                      0\n",
       "lat                      0\n",
       "long                     0\n",
       "city_pop                 0\n",
       "job                      0\n",
       "dob                      0\n",
       "trans_num                0\n",
       "unix_time                0\n",
       "merch_lat                0\n",
       "merch_long               0\n",
       "is_fraud                 0\n",
       "trans_date               0\n",
       "dtype: int64"
      ]
     },
     "execution_count": 21,
     "metadata": {},
     "output_type": "execute_result"
    }
   ],
   "source": [
    "# Viewing null values from the dataset\n",
    "total.isnull().sum()"
   ]
  },
  {
   "cell_type": "code",
   "execution_count": 22,
   "metadata": {
    "datalore": {
     "hide_input_from_viewers": true,
     "hide_output_from_viewers": true,
     "node_id": "WKZSVZAkWjPfyFjVdobYZW",
     "type": "CODE"
    }
   },
   "outputs": [
    {
     "name": "stdout",
     "output_type": "stream",
     "text": [
      "<class 'pandas.core.frame.DataFrame'>\n",
      "Int64Index: 1852394 entries, 0 to 1296674\n",
      "Data columns (total 10 columns):\n",
      " #   Column      Dtype  \n",
      "---  ------      -----  \n",
      " 0   cc_num      int64  \n",
      " 1   amt         float64\n",
      " 2   zip         int64  \n",
      " 3   lat         float64\n",
      " 4   long        float64\n",
      " 5   city_pop    int64  \n",
      " 6   unix_time   int64  \n",
      " 7   merch_lat   float64\n",
      " 8   merch_long  float64\n",
      " 9   is_fraud    int64  \n",
      "dtypes: float64(5), int64(5)\n",
      "memory usage: 155.5 MB\n"
     ]
    }
   ],
   "source": [
    "# Display the information about the selected columns in the 'total' dataframe.\n",
    "total[testnum.columns].info()"
   ]
  },
  {
   "cell_type": "code",
   "execution_count": 23,
   "metadata": {
    "datalore": {
     "hide_input_from_viewers": true,
     "hide_output_from_viewers": true,
     "node_id": "Rei0gMV7VUgYziwEKN4c4w",
     "type": "CODE"
    }
   },
   "outputs": [
    {
     "data": {
      "image/png": "[encoded data removed]",
      "text/plain": [
       "<Figure size 576x432 with 1 Axes>"
      ]
     },
     "metadata": {
      "needs_background": "light"
     },
     "output_type": "display_data"
    }
   ],
   "source": [
    "#Set figure size\n",
    "plt.figure(figsize=(8,6))\n",
    "\n",
    "#Generate random color for the distribution plot\n",
    "color = \"#\" + ''.join([random.choice('0123456789ABCDEF') for j in range(6)])\n",
    "\n",
    "#Create distribution plot with normal curve and title with skewness value\n",
    "sns.histplot(total['amt'], kde=True, stat=\"density\", color='Red')\n",
    "plt.title(\"Skewness of amt = \" + str(skew(total['amt'])))\n",
    "\n",
    "#Show the plot\n",
    "plt.show()"
   ]
  },
  {
   "cell_type": "code",
   "execution_count": 24,
   "metadata": {
    "datalore": {
     "hide_input_from_viewers": true,
     "hide_output_from_viewers": true,
     "node_id": "6itTHlScTzQqFsilHKArar",
     "type": "CODE"
    }
   },
   "outputs": [
    {
     "data": {
      "image/png": "[encoded data removed]",
      "text/plain": [
       "<Figure size 432x288 with 1 Axes>"
      ]
     },
     "metadata": {},
     "output_type": "display_data"
    }
   ],
   "source": [
    "#Set style of the plot\n",
    "sns.set_style('whitegrid')\n",
    "\n",
    "#Create a histogram of the variable 'is_fraud' using seaborn's histplot function\n",
    "sns.histplot(total['is_fraud'], kde=True, stat=\"density\", color='blue')\n",
    "\n",
    "#Set the title and labels for the plot\n",
    "plt.title('Distribution of is_fraud')\n",
    "plt.xlabel('is_fraud')\n",
    "plt.ylabel('Density')\n",
    "\n",
    "#Show the plot\n",
    "plt.show()"
   ]
  },
  {
   "cell_type": "code",
   "execution_count": 25,
   "metadata": {
    "datalore": {
     "hide_input_from_viewers": true,
     "hide_output_from_viewers": true,
     "node_id": "LSb3G9I2f1gHGcVkhhvzYo",
     "type": "CODE"
    }
   },
   "outputs": [
    {
     "name": "stdout",
     "output_type": "stream",
     "text": [
      "<class 'pandas.core.frame.DataFrame'>\n",
      "Int64Index: 1852394 entries, 0 to 1296674\n",
      "Data columns (total 15 columns):\n",
      " #   Column                 Dtype         \n",
      "---  ------                 -----         \n",
      " 0   trans_date_trans_time  datetime64[ns]\n",
      " 1   category               object        \n",
      " 2   amt                    float64       \n",
      " 3   gender                 object        \n",
      " 4   city                   object        \n",
      " 5   state                  object        \n",
      " 6   lat                    float64       \n",
      " 7   long                   float64       \n",
      " 8   city_pop               int64         \n",
      " 9   job                    object        \n",
      " 10  dob                    datetime64[ns]\n",
      " 11  merch_lat              float64       \n",
      " 12  merch_long             float64       \n",
      " 13  is_fraud               int64         \n",
      " 14  trans_date             datetime64[ns]\n",
      "dtypes: datetime64[ns](3), float64(5), int64(2), object(5)\n",
      "memory usage: 226.1+ MB\n"
     ]
    }
   ],
   "source": [
    "# Drop the unnecessary columns from the 'total' dataframe along the column axis.\n",
    "total.drop(['cc_num','merchant','first','last','street','zip','trans_num','unix_time'], axis=1, inplace=True)\n",
    "\n",
    "# Display the information about the remaining columns in the 'total' dataframe.\n",
    "total.info()"
   ]
  },
  {
   "cell_type": "code",
   "execution_count": 26,
   "metadata": {
    "datalore": {
     "hide_input_from_viewers": true,
     "hide_output_from_viewers": true,
     "node_id": "vXGLnW0mA2BOPd6XJkzWov",
     "type": "CODE"
    }
   },
   "outputs": [
    {
     "data": {
      "image/png": "[encoded data removed]",
      "text/plain": [
       "<Figure size 576x360 with 1 Axes>"
      ]
     },
     "metadata": {},
     "output_type": "display_data"
    }
   ],
   "source": [
    "#Set figure size\n",
    "plt.figure(figsize=(8,5))\n",
    "\n",
    "#Create countplot of 'is_fraud' variable with random color and store the axis object\n",
    "ax = sns.countplot(x=\"is_fraud\", data=total,color='#'+''.join([random.choice('0123456789ABCDEF') for j in range(6)]))\n",
    "\n",
    "#Add annotation to the bars showing the count of each category\n",
    "for p in ax.patches:\n",
    "    ax.annotate('{:.1f}'.format(p.get_height()), (p.get_x()+0.25, p.get_height()+0.01))\n",
    "\n",
    "#Set the figure title and axis labels\n",
    "plt.title('Counts of is_fraud')\n",
    "plt.xlabel('is_fraud')\n",
    "plt.ylabel('Count')\n",
    "\n",
    "#Show the plot\n",
    "plt.show()"
   ]
  },
  {
   "cell_type": "code",
   "execution_count": 27,
   "metadata": {
    "datalore": {
     "hide_input_from_viewers": true,
     "hide_output_from_viewers": true,
     "node_id": "Vis1KLuRIi29tA5Qz3m514",
     "type": "CODE"
    }
   },
   "outputs": [
    {
     "data": {
      "text/plain": [
       "0    52.0\n",
       "1    30.0\n",
       "2    49.0\n",
       "3    32.0\n",
       "4    64.0\n",
       "Name: age, dtype: float64"
      ]
     },
     "execution_count": 27,
     "metadata": {},
     "output_type": "execute_result"
    }
   ],
   "source": [
    "# Subtract the 'dob' column from the 'trans_date' column to calculate the age of the customer and create a new column 'age'.\n",
    "total[\"age\"] = total[\"trans_date\"] - total[\"dob\"]\n",
    "# Convert the 'age' column to timedelta datatype to enable date arithmetic.\n",
    "total[\"age\"] = total[\"age\"].astype('timedelta64[Y]')\n",
    "# Display the first five rows of the 'age' column in the 'total' dataframe.\n",
    "total[\"age\"].head()"
   ]
  },
  {
   "cell_type": "code",
   "execution_count": 28,
   "metadata": {
    "datalore": {
     "hide_input_from_viewers": true,
     "hide_output_from_viewers": true,
     "node_id": "LBLhqyvu4fvlJWJ6GVyUw8",
     "type": "CODE"
    }
   },
   "outputs": [
    {
     "name": "stdout",
     "output_type": "stream",
     "text": [
      "<class 'pandas.core.frame.DataFrame'>\n",
      "Int64Index: 1852394 entries, 0 to 1296674\n",
      "Data columns (total 16 columns):\n",
      " #   Column                 Dtype         \n",
      "---  ------                 -----         \n",
      " 0   trans_date_trans_time  datetime64[ns]\n",
      " 1   category               object        \n",
      " 2   amt                    float64       \n",
      " 3   gender                 object        \n",
      " 4   city                   object        \n",
      " 5   state                  object        \n",
      " 6   lat                    float64       \n",
      " 7   long                   float64       \n",
      " 8   city_pop               int64         \n",
      " 9   job                    object        \n",
      " 10  dob                    datetime64[ns]\n",
      " 11  merch_lat              float64       \n",
      " 12  merch_long             float64       \n",
      " 13  is_fraud               int64         \n",
      " 14  trans_date             datetime64[ns]\n",
      " 15  age                    float64       \n",
      "dtypes: datetime64[ns](3), float64(6), int64(2), object(5)\n",
      "memory usage: 240.3+ MB\n"
     ]
    }
   ],
   "source": [
    "# viewing the total data frame information\n",
    "total.info()"
   ]
  },
  {
   "cell_type": "code",
   "execution_count": 29,
   "metadata": {
    "datalore": {
     "hide_input_from_viewers": true,
     "hide_output_from_viewers": true,
     "node_id": "OI46D313paXL7kgXAxe4br",
     "type": "CODE"
    }
   },
   "outputs": [
    {
     "data": {
      "image/png": "[encoded data removed]",
      "text/plain": [
       "<Figure size 576x432 with 1 Axes>"
      ]
     },
     "metadata": {},
     "output_type": "display_data"
    }
   ],
   "source": [
    "#Create a subset of the data for fraud transactions\n",
    "fraud = total[total[\"is_fraud\"] == 1]\n",
    "#set the figure size\n",
    "plt.figure(figsize=(8,6))\n",
    "#Create a histogram of the age variable for fraud transactions with a specified number of bins and color\n",
    "sns.histplot(fraud['age'], kde=False, bins=5, color='#'+''.join([random.choice('0123456789ABCDEF') for j in range(6)]))\n",
    "#Set the title and axis labels for the plot\n",
    "plt.title(\"Number of Credit Card Frauds by Age Groups\")\n",
    "plt.xlabel(\"Age\")\n",
    "plt.ylabel(\"Count\")\n",
    "#Show the plot\n",
    "plt.show()"
   ]
  },
  {
   "cell_type": "code",
   "execution_count": 30,
   "metadata": {
    "datalore": {
     "hide_input_from_viewers": true,
     "hide_output_from_viewers": true,
     "node_id": "AdqEOKYlT9smHORdmCpXl1",
     "type": "CODE"
    }
   },
   "outputs": [],
   "source": [
    "# Extract the month from the 'trans_date' column and create a new column 'trans_month'.\n",
    "total['trans_month'] = pd.DatetimeIndex(total['trans_date']).month\n",
    "# Extract the year from the 'trans_date' column and create a new column 'trans_year'.\n",
    "total['trans_year'] = pd.DatetimeIndex(total['trans_date']).year"
   ]
  },
  {
   "cell_type": "code",
   "execution_count": 31,
   "metadata": {
    "datalore": {
     "hide_input_from_viewers": true,
     "hide_output_from_viewers": true,
     "node_id": "KwKDTfK6omrstAIxzsLavc",
     "type": "CODE"
    }
   },
   "outputs": [],
   "source": [
    "# Import the 'calendar' module to use the 'month_abbr' function.\n",
    "import calendar\n",
    "# Convert the month number to month name and create a new column 'Month_name'.\n",
    "total['Month_name'] = total['trans_month'].apply(lambda x: calendar.month_abbr[x])"
   ]
  },
  {
   "cell_type": "code",
   "execution_count": 32,
   "metadata": {},
   "outputs": [],
   "source": [
    "from randomcolor import RandomColor"
   ]
  },
  {
   "cell_type": "code",
   "execution_count": 33,
   "metadata": {
    "datalore": {
     "hide_input_from_viewers": true,
     "hide_output_from_viewers": true,
     "node_id": "dCkNzvOH0bz3ldpAxw0ghW",
     "type": "CODE"
    }
   },
   "outputs": [
    {
     "data": {
      "image/png": "[encoded data removed]",
      "text/plain": [
       "<Figure size 720x576 with 1 Axes>"
      ]
     },
     "metadata": {},
     "output_type": "display_data"
    }
   ],
   "source": [
    "# Create an instance of the 'RandomColor' class to generate random colors.\n",
    "color = RandomColor()\n",
    "# Set the figure size.\n",
    "plt.figure(figsize=(10, 8))\n",
    "# Select the rows in the 'total' dataframe where the 'is_fraud' column is 1 and group them by the month name to count the number of frauds in each month.\n",
    "fraud_month_count = total[total[\"is_fraud\"] == 1].groupby('Month_name')['is_fraud'].count().reset_index()\n",
    "# Create a barplot of the 'fraud_month_count' dataframe using seaborn.\n",
    "sns.barplot(x='Month_name', y='is_fraud', data=fraud_month_count, palette=color.generate(count=15))\n",
    "# Set the title of the plot.\n",
    "plt.title(\"Number of Credit Card Frauds by Month\")\n",
    "# Set the x-axis and y-axis labels.\n",
    "plt.xlabel(\"Month\")\n",
    "plt.ylabel(\"Number of Frauds\")\n",
    "# Save the plot with a given name and format.\n",
    "plt.savefig('fraud_month_count.png', format='png')\n",
    "# Display the plot.\n",
    "plt.show()"
   ]
  },
  {
   "cell_type": "code",
   "execution_count": 34,
   "metadata": {
    "datalore": {
     "hide_input_from_viewers": true,
     "hide_output_from_viewers": true,
     "node_id": "1wQrT73tciTME1VQ7R7hsw",
     "type": "CODE"
    }
   },
   "outputs": [
    {
     "data": {
      "image/png": "[encoded data removed]",
      "text/plain": [
       "<Figure size 720x576 with 1 Axes>"
      ]
     },
     "metadata": {},
     "output_type": "display_data"
    }
   ],
   "source": [
    "# Create a figure with a specified size and add a subplot to it\n",
    "fig, ax = plt.subplots(figsize=(10, 8))\n",
    "# Define the color palette for the plot\n",
    "colors = [\"#004c6d\", \"#bc5090\"]\n",
    "# Use seaborn's countplot function to plot the number of credit card frauds by gender\n",
    "sns.countplot(x=\"gender\", hue=\"is_fraud\", data=total, palette=colors, ax=ax)\n",
    "# Set the title of the plot and adjust the font size\n",
    "ax.set_title(\"Number of Credit Card Frauds by Gender\", fontsize=16)\n",
    "# Set the x-label and adjust the font size\n",
    "ax.set_xlabel(\"Gender\", fontsize=14)\n",
    "# Set the y-label and adjust the font size\n",
    "ax.set_ylabel(\"Count\", fontsize=14)\n",
    "# Set the legend and adjust the font size\n",
    "ax.legend([\"Non-Fraud\", \"Fraud\"], fontsize=12)\n",
    "# Save the figure with a specified name\n",
    "plt.savefig(\"credit_card_frauds_by_gender.png\", dpi=300)\n",
    "# Display the plot\n",
    "plt.show()"
   ]
  },
  {
   "cell_type": "code",
   "execution_count": 35,
   "metadata": {
    "datalore": {
     "hide_input_from_viewers": true,
     "hide_output_from_viewers": true,
     "node_id": "wUn3SrZrg8L2u3C2VNfLbF",
     "type": "CODE"
    }
   },
   "outputs": [
    {
     "data": {
      "image/png": "[encoded data removed]",
      "text/plain": [
       "<Figure size 720x576 with 1 Axes>"
      ]
     },
     "metadata": {},
     "output_type": "display_data"
    }
   ],
   "source": [
    "# Create a figure with a specified size and add a subplot to it\n",
    "fig, ax = plt.subplots(figsize=(10, 8))\n",
    "# Define the color palette for the plot\n",
    "colors = [\"#7b9e87\", \"#e7d4c3\", \"#f7a4b4\"]\n",
    "# Use seaborn's countplot function to plot the number of credit card frauds by year\n",
    "sns.countplot(x=\"trans_year\", data=total[total[\"is_fraud\"]==1], palette=colors, ax=ax)\n",
    "# Set the title of the plot and adjust the font size\n",
    "ax.set_title(\"Number of Credit Card Frauds by Year\", fontsize=16)\n",
    "# Set the x-label and adjust the font size\n",
    "ax.set_xlabel(\"Year\", fontsize=14)\n",
    "# Set the y-label and adjust the font size\n",
    "ax.set_ylabel(\"Count\", fontsize=14)\n",
    "# Save the figure with a specified name\n",
    "plt.savefig(\"credit_card_frauds_by_year.png\", dpi=300)\n",
    "# Display the plot\n",
    "plt.show()"
   ]
  },
  {
   "cell_type": "code",
   "execution_count": 36,
   "metadata": {
    "datalore": {
     "hide_input_from_viewers": true,
     "hide_output_from_viewers": true,
     "node_id": "ipBb7KOi5ET531jTjTc08J",
     "type": "CODE"
    }
   },
   "outputs": [],
   "source": [
    "# Create a new column in the 'total' DataFrame called 'latitudinal_distance' that calculates the absolute difference\n",
    "# between the 'merch_lat' and 'lat' columns, rounded to 3 decimal places\n",
    "total['latitudinal_distance'] = abs(round(total['merch_lat']-total['lat'],3))\n",
    "# Create a new column in the 'total' DataFrame called 'longitudinal_distance' that calculates the absolute difference\n",
    "# between the 'merch_long' and 'long' columns, rounded to 3 decimal places\n",
    "total['longitudinal_distance'] = abs(round(total['merch_long']-total['long'],3))"
   ]
  },
  {
   "cell_type": "code",
   "execution_count": 37,
   "metadata": {
    "datalore": {
     "hide_input_from_viewers": true,
     "hide_output_from_viewers": true,
     "node_id": "aOhjS7eqoW0M2rm2aKSZa8",
     "type": "CODE"
    }
   },
   "outputs": [
    {
     "data": {
      "image/png": "[encoded data removed]",
      "text/plain": [
       "<Figure size 576x432 with 1 Axes>"
      ]
     },
     "metadata": {},
     "output_type": "display_data"
    }
   ],
   "source": [
    "# Create a new DataFrame called 'fraud' that only includes rows where 'is_fraud' is equal to 1\n",
    "fraud = total[total[\"is_fraud\"]==1]\n",
    "# Create a figure with a specified size and add a subplot to it\n",
    "fig, ax = plt.subplots(figsize=(8, 6))\n",
    "# Define the color palette for the plot\n",
    "colors = [\"Orange\"]\n",
    "# Use the hist() function to plot a histogram of the 'latitudinal_distance' column in the 'fraud' DataFrame\n",
    "ax.hist(fraud.latitudinal_distance, bins=5, edgecolor=\"black\", color=colors)\n",
    "# Set the title of the plot and adjust the font size\n",
    "ax.set_title(\"Number of Credit Card Frauds by Latitudinal Distance\", fontsize=16)\n",
    "# Set the x-label and adjust the font size\n",
    "ax.set_xlabel(\"Latitudinal Distance (degrees)\", fontsize=14)\n",
    "# Set the y-label and adjust the font size\n",
    "ax.set_ylabel(\"Count\", fontsize=14)\n",
    "# Save the figure with a specified name\n",
    "plt.savefig(\"credit_card_frauds_by_latitudinal_distance.png\", dpi=300)\n",
    "# Display the plot\n",
    "plt.show()"
   ]
  },
  {
   "cell_type": "code",
   "execution_count": 38,
   "metadata": {
    "datalore": {
     "hide_input_from_viewers": true,
     "hide_output_from_viewers": true,
     "node_id": "bnAMyGa0iWGUdmNZz6hK4K",
     "type": "CODE"
    }
   },
   "outputs": [
    {
     "data": {
      "image/png": "[encoded data removed]",
      "text/plain": [
       "<Figure size 576x432 with 1 Axes>"
      ]
     },
     "metadata": {},
     "output_type": "display_data"
    }
   ],
   "source": [
    "# Create a new DataFrame called 'fraud' that only includes rows where 'is_fraud' is equal to 1\n",
    "fraud = total[total[\"is_fraud\"]==1]\n",
    "# Create a figure with a specified size and add a subplot to it\n",
    "fig, ax = plt.subplots(figsize=(8, 6))\n",
    "# Define the color palette for the plot\n",
    "colors = [\"#b4f7b2\"]\n",
    "# Use the hist() function to plot a histogram of the 'longitudinal_distance' column in the 'fraud' DataFrame\n",
    "ax.hist(fraud.longitudinal_distance, bins=5, edgecolor=\"black\", color=colors)\n",
    "# Set the title of the plot and adjust the font size\n",
    "ax.set_title(\"Number of Credit Card Frauds by Longitudinal Distance\", fontsize=16)\n",
    "# Set the x-label and adjust the font size\n",
    "ax.set_xlabel(\"Longitudinal Distance (degrees)\", fontsize=14)\n",
    "# Set the y-label and adjust the font size\n",
    "ax.set_ylabel(\"Count\", fontsize=14)\n",
    "# Save the figure with a specified name\n",
    "plt.savefig(\"credit_card_frauds_by_longitudinal_distance.png\", dpi=300)\n",
    "# Display the plot\n",
    "plt.show()"
   ]
  },
  {
   "cell_type": "code",
   "execution_count": 39,
   "metadata": {
    "datalore": {
     "hide_input_from_viewers": true,
     "hide_output_from_viewers": true,
     "node_id": "KSprEPbZKC7s36vn0YoYzf",
     "type": "CODE"
    }
   },
   "outputs": [
    {
     "name": "stdout",
     "output_type": "stream",
     "text": [
      "<class 'pandas.core.frame.DataFrame'>\n",
      "Int64Index: 1852394 entries, 0 to 1296674\n",
      "Data columns (total 21 columns):\n",
      " #   Column                 Dtype         \n",
      "---  ------                 -----         \n",
      " 0   trans_date_trans_time  datetime64[ns]\n",
      " 1   category               object        \n",
      " 2   amt                    float64       \n",
      " 3   gender                 object        \n",
      " 4   city                   object        \n",
      " 5   state                  object        \n",
      " 6   lat                    float64       \n",
      " 7   long                   float64       \n",
      " 8   city_pop               int64         \n",
      " 9   job                    object        \n",
      " 10  dob                    datetime64[ns]\n",
      " 11  merch_lat              float64       \n",
      " 12  merch_long             float64       \n",
      " 13  is_fraud               int64         \n",
      " 14  trans_date             datetime64[ns]\n",
      " 15  age                    float64       \n",
      " 16  trans_month            int64         \n",
      " 17  trans_year             int64         \n",
      " 18  Month_name             object        \n",
      " 19  latitudinal_distance   float64       \n",
      " 20  longitudinal_distance  float64       \n",
      "dtypes: datetime64[ns](3), float64(8), int64(4), object(6)\n",
      "memory usage: 310.9+ MB\n"
     ]
    }
   ],
   "source": [
    "# Viewing the total data frame information\n",
    "total.info()"
   ]
  },
  {
   "cell_type": "code",
   "execution_count": 40,
   "metadata": {
    "datalore": {
     "hide_input_from_viewers": true,
     "hide_output_from_viewers": true,
     "node_id": "wTuuaYuExNjawSNFVmfQKA",
     "type": "CODE"
    }
   },
   "outputs": [
    {
     "data": {
      "text/plain": [
       "F    1014749\n",
       "M     837645\n",
       "Name: gender, dtype: int64"
      ]
     },
     "execution_count": 40,
     "metadata": {},
     "output_type": "execute_result"
    }
   ],
   "source": [
    "# Viewing the gender value counts\n",
    "total.gender.value_counts()"
   ]
  },
  {
   "cell_type": "code",
   "execution_count": 41,
   "metadata": {
    "datalore": {
     "hide_input_from_viewers": true,
     "hide_output_from_viewers": true,
     "node_id": "na9INzaOTDX5NlETliXQLt",
     "type": "CODE"
    }
   },
   "outputs": [
    {
     "data": {
      "text/plain": [
       "0    1014749\n",
       "1     837645\n",
       "Name: gender, dtype: int64"
      ]
     },
     "execution_count": 41,
     "metadata": {},
     "output_type": "execute_result"
    }
   ],
   "source": [
    "# Use the apply() function to transform the 'gender' column in the 'total' DataFrame\n",
    "# If the gender is \"M\", the function returns 1, else it returns 0\n",
    "total.gender = total.gender.apply(lambda x: 1 if x == \"M\" else 0)\n",
    "# Use the value_counts() function to count the number of occurrences of each value in the 'gender' column\n",
    "# This will return a Series with the counts of each value (1 for Male and 0 for Female)\n",
    "total.gender.value_counts()"
   ]
  },
  {
   "cell_type": "code",
   "execution_count": 42,
   "metadata": {
    "datalore": {
     "hide_input_from_viewers": true,
     "hide_output_from_viewers": true,
     "node_id": "3PIGtyP8uRGN0K1RSggVbY",
     "type": "CODE"
    }
   },
   "outputs": [
    {
     "name": "stdout",
     "output_type": "stream",
     "text": [
      "<class 'pandas.core.frame.DataFrame'>\n",
      "Int64Index: 1852394 entries, 0 to 1296674\n",
      "Data columns (total 11 columns):\n",
      " #   Column                 Dtype  \n",
      "---  ------                 -----  \n",
      " 0   category               object \n",
      " 1   amt                    float64\n",
      " 2   gender                 int64  \n",
      " 3   city_pop               int64  \n",
      " 4   is_fraud               int64  \n",
      " 5   age                    float64\n",
      " 6   trans_month            int64  \n",
      " 7   trans_year             int64  \n",
      " 8   Month_name             object \n",
      " 9   latitudinal_distance   float64\n",
      " 10  longitudinal_distance  float64\n",
      "dtypes: float64(4), int64(5), object(2)\n",
      "memory usage: 169.6+ MB\n"
     ]
    }
   ],
   "source": [
    "# Create a list of column names to be dropped from the 'total' DataFrame\n",
    "drop_cols = ['trans_date_trans_time', 'city', 'lat', 'long', 'job', 'dob', 'merch_lat', 'merch_long', 'trans_date', 'state']\n",
    "# Use the drop() function to remove the specified columns from the 'total' DataFrame\n",
    "# The 'axis=1' parameter indicates that we are dropping columns (as opposed to rows)\n",
    "total = total.drop(drop_cols, axis=1)\n",
    "# Use the info() function to display information about the DataFrame, \n",
    "# including the data types and number of non-null values for each column\n",
    "total.info()"
   ]
  },
  {
   "cell_type": "code",
   "execution_count": 43,
   "metadata": {
    "datalore": {
     "hide_input_from_viewers": true,
     "hide_output_from_viewers": true,
     "node_id": "bffXY5RpBqAwQoQ7MbvJ7B",
     "type": "CODE"
    }
   },
   "outputs": [
    {
     "name": "stdout",
     "output_type": "stream",
     "text": [
      "<class 'pandas.core.frame.DataFrame'>\n",
      "Int64Index: 1852394 entries, 0 to 1296674\n",
      "Data columns (total 23 columns):\n",
      " #   Column                   Dtype  \n",
      "---  ------                   -----  \n",
      " 0   amt                      float64\n",
      " 1   gender                   int64  \n",
      " 2   city_pop                 int64  \n",
      " 3   is_fraud                 int64  \n",
      " 4   age                      float64\n",
      " 5   trans_month              int64  \n",
      " 6   trans_year               int64  \n",
      " 7   Month_name               object \n",
      " 8   latitudinal_distance     float64\n",
      " 9   longitudinal_distance    float64\n",
      " 10  category_food_dining     uint8  \n",
      " 11  category_gas_transport   uint8  \n",
      " 12  category_grocery_net     uint8  \n",
      " 13  category_grocery_pos     uint8  \n",
      " 14  category_health_fitness  uint8  \n",
      " 15  category_home            uint8  \n",
      " 16  category_kids_pets       uint8  \n",
      " 17  category_misc_net        uint8  \n",
      " 18  category_misc_pos        uint8  \n",
      " 19  category_personal_care   uint8  \n",
      " 20  category_shopping_net    uint8  \n",
      " 21  category_shopping_pos    uint8  \n",
      " 22  category_travel          uint8  \n",
      "dtypes: float64(4), int64(5), object(1), uint8(13)\n",
      "memory usage: 178.4+ MB\n"
     ]
    }
   ],
   "source": [
    "# Use the get_dummies() function from the pandas library to create dummy variables for the 'category' column in the 'total' DataFrame\n",
    "# This creates a new DataFrame with binary columns representing each unique value in the 'category' column\n",
    "# The 'drop_first=True' parameter is used to drop the first binary column to avoid multicollinearity\n",
    "total = pd.get_dummies(total, columns=['category'], drop_first=True)\n",
    "# Use the info() function to display information about the DataFrame, \n",
    "# including the data types and number of non-null values for each column\n",
    "total.info()"
   ]
  },
  {
   "cell_type": "code",
   "execution_count": 44,
   "metadata": {
    "datalore": {
     "hide_input_from_viewers": true,
     "hide_output_from_viewers": true,
     "node_id": "dFFxar3YA7koSK7fKjc7KE",
     "type": "CODE"
    }
   },
   "outputs": [
    {
     "data": {
      "text/html": [
       "<div>\n",
       "<style scoped>\n",
       "    .dataframe tbody tr th:only-of-type {\n",
       "        vertical-align: middle;\n",
       "    }\n",
       "\n",
       "    .dataframe tbody tr th {\n",
       "        vertical-align: top;\n",
       "    }\n",
       "\n",
       "    .dataframe thead th {\n",
       "        text-align: right;\n",
       "    }\n",
       "</style>\n",
       "<table border=\"1\" class=\"dataframe\">\n",
       "  <thead>\n",
       "    <tr style=\"text-align: right;\">\n",
       "      <th></th>\n",
       "      <th>amt</th>\n",
       "      <th>gender</th>\n",
       "      <th>city_pop</th>\n",
       "      <th>is_fraud</th>\n",
       "      <th>age</th>\n",
       "      <th>trans_month</th>\n",
       "      <th>trans_year</th>\n",
       "      <th>Month_name</th>\n",
       "      <th>latitudinal_distance</th>\n",
       "      <th>longitudinal_distance</th>\n",
       "      <th>...</th>\n",
       "      <th>category_grocery_pos</th>\n",
       "      <th>category_health_fitness</th>\n",
       "      <th>category_home</th>\n",
       "      <th>category_kids_pets</th>\n",
       "      <th>category_misc_net</th>\n",
       "      <th>category_misc_pos</th>\n",
       "      <th>category_personal_care</th>\n",
       "      <th>category_shopping_net</th>\n",
       "      <th>category_shopping_pos</th>\n",
       "      <th>category_travel</th>\n",
       "    </tr>\n",
       "  </thead>\n",
       "  <tbody>\n",
       "    <tr>\n",
       "      <th>0</th>\n",
       "      <td>2.86</td>\n",
       "      <td>1</td>\n",
       "      <td>333497</td>\n",
       "      <td>0</td>\n",
       "      <td>52.0</td>\n",
       "      <td>6</td>\n",
       "      <td>2020</td>\n",
       "      <td>Jun</td>\n",
       "      <td>0.020</td>\n",
       "      <td>0.265</td>\n",
       "      <td>...</td>\n",
       "      <td>0</td>\n",
       "      <td>0</td>\n",
       "      <td>0</td>\n",
       "      <td>0</td>\n",
       "      <td>0</td>\n",
       "      <td>0</td>\n",
       "      <td>1</td>\n",
       "      <td>0</td>\n",
       "      <td>0</td>\n",
       "      <td>0</td>\n",
       "    </tr>\n",
       "    <tr>\n",
       "      <th>1</th>\n",
       "      <td>29.84</td>\n",
       "      <td>0</td>\n",
       "      <td>302</td>\n",
       "      <td>0</td>\n",
       "      <td>30.0</td>\n",
       "      <td>6</td>\n",
       "      <td>2020</td>\n",
       "      <td>Jun</td>\n",
       "      <td>0.870</td>\n",
       "      <td>0.476</td>\n",
       "      <td>...</td>\n",
       "      <td>0</td>\n",
       "      <td>0</td>\n",
       "      <td>0</td>\n",
       "      <td>0</td>\n",
       "      <td>0</td>\n",
       "      <td>0</td>\n",
       "      <td>1</td>\n",
       "      <td>0</td>\n",
       "      <td>0</td>\n",
       "      <td>0</td>\n",
       "    </tr>\n",
       "    <tr>\n",
       "      <th>2</th>\n",
       "      <td>41.28</td>\n",
       "      <td>0</td>\n",
       "      <td>34496</td>\n",
       "      <td>0</td>\n",
       "      <td>49.0</td>\n",
       "      <td>6</td>\n",
       "      <td>2020</td>\n",
       "      <td>Jun</td>\n",
       "      <td>0.177</td>\n",
       "      <td>0.660</td>\n",
       "      <td>...</td>\n",
       "      <td>0</td>\n",
       "      <td>1</td>\n",
       "      <td>0</td>\n",
       "      <td>0</td>\n",
       "      <td>0</td>\n",
       "      <td>0</td>\n",
       "      <td>0</td>\n",
       "      <td>0</td>\n",
       "      <td>0</td>\n",
       "      <td>0</td>\n",
       "    </tr>\n",
       "    <tr>\n",
       "      <th>3</th>\n",
       "      <td>60.05</td>\n",
       "      <td>1</td>\n",
       "      <td>54767</td>\n",
       "      <td>0</td>\n",
       "      <td>32.0</td>\n",
       "      <td>6</td>\n",
       "      <td>2020</td>\n",
       "      <td>Jun</td>\n",
       "      <td>0.243</td>\n",
       "      <td>0.064</td>\n",
       "      <td>...</td>\n",
       "      <td>0</td>\n",
       "      <td>0</td>\n",
       "      <td>0</td>\n",
       "      <td>0</td>\n",
       "      <td>0</td>\n",
       "      <td>1</td>\n",
       "      <td>0</td>\n",
       "      <td>0</td>\n",
       "      <td>0</td>\n",
       "      <td>0</td>\n",
       "    </tr>\n",
       "    <tr>\n",
       "      <th>4</th>\n",
       "      <td>3.19</td>\n",
       "      <td>1</td>\n",
       "      <td>1126</td>\n",
       "      <td>0</td>\n",
       "      <td>64.0</td>\n",
       "      <td>6</td>\n",
       "      <td>2020</td>\n",
       "      <td>Jun</td>\n",
       "      <td>0.706</td>\n",
       "      <td>0.868</td>\n",
       "      <td>...</td>\n",
       "      <td>0</td>\n",
       "      <td>0</td>\n",
       "      <td>0</td>\n",
       "      <td>0</td>\n",
       "      <td>0</td>\n",
       "      <td>0</td>\n",
       "      <td>0</td>\n",
       "      <td>0</td>\n",
       "      <td>0</td>\n",
       "      <td>1</td>\n",
       "    </tr>\n",
       "  </tbody>\n",
       "</table>\n",
       "<p>5 rows × 23 columns</p>\n",
       "</div>"
      ],
      "text/plain": [
       "     amt  gender  city_pop  is_fraud   age  trans_month  trans_year  \\\n",
       "0   2.86       1    333497         0  52.0            6        2020   \n",
       "1  29.84       0       302         0  30.0            6        2020   \n",
       "2  41.28       0     34496         0  49.0            6        2020   \n",
       "3  60.05       1     54767         0  32.0            6        2020   \n",
       "4   3.19       1      1126         0  64.0            6        2020   \n",
       "\n",
       "  Month_name  latitudinal_distance  longitudinal_distance  ...  \\\n",
       "0        Jun                 0.020                  0.265  ...   \n",
       "1        Jun                 0.870                  0.476  ...   \n",
       "2        Jun                 0.177                  0.660  ...   \n",
       "3        Jun                 0.243                  0.064  ...   \n",
       "4        Jun                 0.706                  0.868  ...   \n",
       "\n",
       "   category_grocery_pos  category_health_fitness  category_home  \\\n",
       "0                     0                        0              0   \n",
       "1                     0                        0              0   \n",
       "2                     0                        1              0   \n",
       "3                     0                        0              0   \n",
       "4                     0                        0              0   \n",
       "\n",
       "   category_kids_pets  category_misc_net  category_misc_pos  \\\n",
       "0                   0                  0                  0   \n",
       "1                   0                  0                  0   \n",
       "2                   0                  0                  0   \n",
       "3                   0                  0                  1   \n",
       "4                   0                  0                  0   \n",
       "\n",
       "   category_personal_care  category_shopping_net  category_shopping_pos  \\\n",
       "0                       1                      0                      0   \n",
       "1                       1                      0                      0   \n",
       "2                       0                      0                      0   \n",
       "3                       0                      0                      0   \n",
       "4                       0                      0                      0   \n",
       "\n",
       "   category_travel  \n",
       "0                0  \n",
       "1                0  \n",
       "2                0  \n",
       "3                0  \n",
       "4                1  \n",
       "\n",
       "[5 rows x 23 columns]"
      ]
     },
     "execution_count": 44,
     "metadata": {},
     "output_type": "execute_result"
    }
   ],
   "source": [
    "# Viewing the total data frame head\n",
    "total.head(5)"
   ]
  },
  {
   "cell_type": "code",
   "execution_count": 45,
   "metadata": {
    "datalore": {
     "hide_input_from_viewers": true,
     "hide_output_from_viewers": true,
     "node_id": "A9fHfjeGHkI15KJk8XMUKr",
     "type": "CODE"
    }
   },
   "outputs": [],
   "source": [
    "# Import the train_test_split() function from the sklearn.model_selection module\n",
    "# This function will be used to split the data into training and testing sets\n",
    "from sklearn.model_selection import train_test_split\n",
    "# Import the resample() function from the sklearn.utils module\n",
    "# This function will be used to upsample the minority class in the training data to address class imbalance\n",
    "from sklearn.utils import resample"
   ]
  },
  {
   "cell_type": "code",
   "execution_count": 46,
   "metadata": {
    "datalore": {
     "hide_input_from_viewers": true,
     "hide_output_from_viewers": true,
     "node_id": "2Ibio4W3Z2SWvK1uatZdGq",
     "type": "CODE"
    }
   },
   "outputs": [
    {
     "data": {
      "text/plain": [
       "((1842743, 23), (9651, 23))"
      ]
     },
     "execution_count": 46,
     "metadata": {},
     "output_type": "execute_result"
    }
   ],
   "source": [
    "# Create a new DataFrame 'df_majority' that contains all the rows in the 'total' DataFrame where the 'is_fraud' column equals 0 (i.e. the majority class)\n",
    "df_majority = total[(total['is_fraud'] == 0)]\n",
    "# Create a new DataFrame 'df_minority' that contains all the rows in the 'total' DataFrame where the 'is_fraud' column equals 1 (i.e. the minority class)\n",
    "df_minority = total[(total['is_fraud'] == 1)]\n",
    "# Use the shape attribute to get the number of rows and columns in each DataFrame\n",
    "df_majority.shape, df_minority.shape"
   ]
  },
  {
   "cell_type": "code",
   "execution_count": 47,
   "metadata": {
    "datalore": {
     "hide_input_from_viewers": true,
     "hide_output_from_viewers": true,
     "node_id": "HhXadvYZnmgUWoj5szd7Vp",
     "type": "CODE"
    }
   },
   "outputs": [
    {
     "data": {
      "text/plain": [
       "(1842743, 23)"
      ]
     },
     "execution_count": 47,
     "metadata": {},
     "output_type": "execute_result"
    }
   ],
   "source": [
    "# upsample minority class\n",
    "df_minority_upsampled = resample(df_minority, \n",
    "                                 replace=True,    # sample with replacement\n",
    "                                 n_samples= 1842743, # to match majority class\n",
    "                                 random_state=42)  # reproducible results\n",
    "df_minority_upsampled.shape"
   ]
  },
  {
   "cell_type": "code",
   "execution_count": 48,
   "metadata": {
    "datalore": {
     "hide_input_from_viewers": true,
     "hide_output_from_viewers": true,
     "node_id": "hFHi3KqSuJfPaR9DFDknQ1",
     "type": "CODE"
    }
   },
   "outputs": [
    {
     "data": {
      "text/plain": [
       "(3685486, 23)"
      ]
     },
     "execution_count": 48,
     "metadata": {},
     "output_type": "execute_result"
    }
   ],
   "source": [
    "# Use the concat() function to concatenate the upsampled minority class DataFrame and the majority class DataFrame\n",
    "total_upsampled = pd.concat([df_minority_upsampled, df_majority])\n",
    "# Use the shape attribute to get the number of rows and columns in the concatenated DataFrame\n",
    "total_upsampled.shape"
   ]
  },
  {
   "cell_type": "code",
   "execution_count": 49,
   "metadata": {
    "datalore": {
     "hide_input_from_viewers": true,
     "hide_output_from_viewers": true,
     "node_id": "spkRjgimajUYwRK0JhE7N0",
     "type": "CODE"
    }
   },
   "outputs": [
    {
     "data": {
      "text/plain": [
       "['amt',\n",
       " 'gender',\n",
       " 'city_pop',\n",
       " 'age',\n",
       " 'trans_month',\n",
       " 'trans_year',\n",
       " 'Month_name',\n",
       " 'latitudinal_distance',\n",
       " 'longitudinal_distance',\n",
       " 'category_food_dining',\n",
       " 'category_gas_transport',\n",
       " 'category_grocery_net',\n",
       " 'category_grocery_pos',\n",
       " 'category_health_fitness',\n",
       " 'category_home',\n",
       " 'category_kids_pets',\n",
       " 'category_misc_net',\n",
       " 'category_misc_pos',\n",
       " 'category_personal_care',\n",
       " 'category_shopping_net',\n",
       " 'category_shopping_pos',\n",
       " 'category_travel']"
      ]
     },
     "execution_count": 49,
     "metadata": {},
     "output_type": "execute_result"
    }
   ],
   "source": [
    "# Get a list of all columns in the upsampled DataFrame\n",
    "x_cols = list(total_upsampled.columns)\n",
    "# Remove the 'is_fraud' column from the list of columns\n",
    "x_cols.remove('is_fraud')\n",
    "# Print the resulting list of columns\n",
    "x_cols"
   ]
  },
  {
   "cell_type": "code",
   "execution_count": 50,
   "metadata": {
    "datalore": {
     "hide_input_from_viewers": true,
     "hide_output_from_viewers": true,
     "node_id": "6bvIt8dpeliaOq0iR8yZYF",
     "type": "CODE"
    }
   },
   "outputs": [
    {
     "name": "stdout",
     "output_type": "stream",
     "text": [
      "<class 'pandas.core.frame.DataFrame'>\n",
      "Int64Index: 3685486 entries, 909017 to 1296674\n",
      "Data columns (total 22 columns):\n",
      " #   Column                   Dtype  \n",
      "---  ------                   -----  \n",
      " 0   amt                      float64\n",
      " 1   gender                   int64  \n",
      " 2   city_pop                 int64  \n",
      " 3   age                      float64\n",
      " 4   trans_month              int64  \n",
      " 5   trans_year               int64  \n",
      " 6   Month_name               object \n",
      " 7   latitudinal_distance     float64\n",
      " 8   longitudinal_distance    float64\n",
      " 9   category_food_dining     uint8  \n",
      " 10  category_gas_transport   uint8  \n",
      " 11  category_grocery_net     uint8  \n",
      " 12  category_grocery_pos     uint8  \n",
      " 13  category_health_fitness  uint8  \n",
      " 14  category_home            uint8  \n",
      " 15  category_kids_pets       uint8  \n",
      " 16  category_misc_net        uint8  \n",
      " 17  category_misc_pos        uint8  \n",
      " 18  category_personal_care   uint8  \n",
      " 19  category_shopping_net    uint8  \n",
      " 20  category_shopping_pos    uint8  \n",
      " 21  category_travel          uint8  \n",
      "dtypes: float64(4), int64(4), object(1), uint8(13)\n",
      "memory usage: 326.9+ MB\n"
     ]
    }
   ],
   "source": [
    "# Get the input features (X) and target variable (Y) from the upsampled DataFrame\n",
    "X = total_upsampled[x_cols]\n",
    "Y = total_upsampled['is_fraud']\n",
    "\n",
    "# Print information about the X DataFrame\n",
    "X.info()"
   ]
  },
  {
   "cell_type": "code",
   "execution_count": 51,
   "metadata": {},
   "outputs": [],
   "source": [
    "X = X.drop('Month_name', axis=1)"
   ]
  },
  {
   "cell_type": "code",
   "execution_count": 52,
   "metadata": {
    "datalore": {
     "hide_input_from_viewers": true,
     "hide_output_from_viewers": true,
     "node_id": "SQFpfYDk183sF43TjQ3MEF",
     "type": "CODE"
    }
   },
   "outputs": [],
   "source": [
    "# Split the data into training and test sets using train_test_split\n",
    "# X_train and Y_train will be used for training the model, and X_test and Y_test for evaluating it\n",
    "X_train, X_test, Y_train, Y_test = train_test_split(X, Y, test_size=0.25, random_state=42)"
   ]
  },
  {
   "cell_type": "code",
   "execution_count": 53,
   "metadata": {
    "datalore": {
     "hide_input_from_viewers": true,
     "hide_output_from_viewers": true,
     "node_id": "BpMiVdO61uuQbt9ZgmUJ9d",
     "type": "CODE"
    }
   },
   "outputs": [],
   "source": [
    "from sklearn.preprocessing import StandardScaler\n",
    "# Create a StandardScaler object\n",
    "sc = StandardScaler()\n",
    "# Scale the training data using the fit_transform method of the StandardScaler object\n",
    "X_train_std = sc.fit_transform(X_train)\n",
    "# Scale the testing data using the fit_transform method of the StandardScaler object\n",
    "X_test_std = sc.fit_transform(X_test)"
   ]
  },
  {
   "cell_type": "code",
   "execution_count": 54,
   "metadata": {
    "datalore": {
     "hide_input_from_viewers": true,
     "hide_output_from_viewers": true,
     "node_id": "3thOVXMNNbLwDeGOLjhp79",
     "type": "CODE"
    }
   },
   "outputs": [
    {
     "data": {
      "text/html": [
       "<style>#sk-container-id-1 {color: black;background-color: white;}#sk-container-id-1 pre{padding: 0;}#sk-container-id-1 div.sk-toggleable {background-color: white;}#sk-container-id-1 label.sk-toggleable__label {cursor: pointer;display: block;width: 100%;margin-bottom: 0;padding: 0.3em;box-sizing: border-box;text-align: center;}#sk-container-id-1 label.sk-toggleable__label-arrow:before {content: \"▸\";float: left;margin-right: 0.25em;color: #696969;}#sk-container-id-1 label.sk-toggleable__label-arrow:hover:before {color: black;}#sk-container-id-1 div.sk-estimator:hover label.sk-toggleable__label-arrow:before {color: black;}#sk-container-id-1 div.sk-toggleable__content {max-height: 0;max-width: 0;overflow: hidden;text-align: left;background-color: #f0f8ff;}#sk-container-id-1 div.sk-toggleable__content pre {margin: 0.2em;color: black;border-radius: 0.25em;background-color: #f0f8ff;}#sk-container-id-1 input.sk-toggleable__control:checked~div.sk-toggleable__content {max-height: 200px;max-width: 100%;overflow: auto;}#sk-container-id-1 input.sk-toggleable__control:checked~label.sk-toggleable__label-arrow:before {content: \"▾\";}#sk-container-id-1 div.sk-estimator input.sk-toggleable__control:checked~label.sk-toggleable__label {background-color: #d4ebff;}#sk-container-id-1 div.sk-label input.sk-toggleable__control:checked~label.sk-toggleable__label {background-color: #d4ebff;}#sk-container-id-1 input.sk-hidden--visually {border: 0;clip: rect(1px 1px 1px 1px);clip: rect(1px, 1px, 1px, 1px);height: 1px;margin: -1px;overflow: hidden;padding: 0;position: absolute;width: 1px;}#sk-container-id-1 div.sk-estimator {font-family: monospace;background-color: #f0f8ff;border: 1px dotted black;border-radius: 0.25em;box-sizing: border-box;margin-bottom: 0.5em;}#sk-container-id-1 div.sk-estimator:hover {background-color: #d4ebff;}#sk-container-id-1 div.sk-parallel-item::after {content: \"\";width: 100%;border-bottom: 1px solid gray;flex-grow: 1;}#sk-container-id-1 div.sk-label:hover label.sk-toggleable__label {background-color: #d4ebff;}#sk-container-id-1 div.sk-serial::before {content: \"\";position: absolute;border-left: 1px solid gray;box-sizing: border-box;top: 0;bottom: 0;left: 50%;z-index: 0;}#sk-container-id-1 div.sk-serial {display: flex;flex-direction: column;align-items: center;background-color: white;padding-right: 0.2em;padding-left: 0.2em;position: relative;}#sk-container-id-1 div.sk-item {position: relative;z-index: 1;}#sk-container-id-1 div.sk-parallel {display: flex;align-items: stretch;justify-content: center;background-color: white;position: relative;}#sk-container-id-1 div.sk-item::before, #sk-container-id-1 div.sk-parallel-item::before {content: \"\";position: absolute;border-left: 1px solid gray;box-sizing: border-box;top: 0;bottom: 0;left: 50%;z-index: -1;}#sk-container-id-1 div.sk-parallel-item {display: flex;flex-direction: column;z-index: 1;position: relative;background-color: white;}#sk-container-id-1 div.sk-parallel-item:first-child::after {align-self: flex-end;width: 50%;}#sk-container-id-1 div.sk-parallel-item:last-child::after {align-self: flex-start;width: 50%;}#sk-container-id-1 div.sk-parallel-item:only-child::after {width: 0;}#sk-container-id-1 div.sk-dashed-wrapped {border: 1px dashed gray;margin: 0 0.4em 0.5em 0.4em;box-sizing: border-box;padding-bottom: 0.4em;background-color: white;}#sk-container-id-1 div.sk-label label {font-family: monospace;font-weight: bold;display: inline-block;line-height: 1.2em;}#sk-container-id-1 div.sk-label-container {text-align: center;}#sk-container-id-1 div.sk-container {/* jupyter's `normalize.less` sets `[hidden] { display: none; }` but bootstrap.min.css set `[hidden] { display: none !important; }` so we also need the `!important` here to be able to override the default hidden behavior on the sphinx rendered scikit-learn.org. See: https://github.com/scikit-learn/scikit-learn/issues/21755 */display: inline-block !important;position: relative;}#sk-container-id-1 div.sk-text-repr-fallback {display: none;}</style><div id=\"sk-container-id-1\" class=\"sk-top-container\"><div class=\"sk-text-repr-fallback\"><pre>LogisticRegression(solver=&#x27;liblinear&#x27;)</pre><b>In a Jupyter environment, please rerun this cell to show the HTML representation or trust the notebook. <br />On GitHub, the HTML representation is unable to render, please try loading this page with nbviewer.org.</b></div><div class=\"sk-container\" hidden><div class=\"sk-item\"><div class=\"sk-estimator sk-toggleable\"><input class=\"sk-toggleable__control sk-hidden--visually\" id=\"sk-estimator-id-1\" type=\"checkbox\" checked><label for=\"sk-estimator-id-1\" class=\"sk-toggleable__label sk-toggleable__label-arrow\">LogisticRegression</label><div class=\"sk-toggleable__content\"><pre>LogisticRegression(solver=&#x27;liblinear&#x27;)</pre></div></div></div></div></div>"
      ],
      "text/plain": [
       "LogisticRegression(solver='liblinear')"
      ]
     },
     "execution_count": 54,
     "metadata": {},
     "output_type": "execute_result"
    }
   ],
   "source": [
    "from sklearn.linear_model import LogisticRegression\n",
    "# Create a logistic regression object with the 'liblinear' solver\n",
    "logit_model = LogisticRegression(solver='liblinear')\n",
    "# Fit the logistic regression model to the scaled training data and corresponding target variable\n",
    "logit_model.fit(X_train_std, Y_train)"
   ]
  },
  {
   "cell_type": "code",
   "execution_count": 55,
   "metadata": {
    "datalore": {
     "hide_input_from_viewers": true,
     "hide_output_from_viewers": true,
     "node_id": "Pz90WyvkYqXYZXFD63hKKb",
     "type": "CODE"
    }
   },
   "outputs": [
    {
     "name": "stdout",
     "output_type": "stream",
     "text": [
      "                     column  importance\n",
      "0                       amt    4.032866\n",
      "9    category_gas_transport    0.821942\n",
      "11     category_grocery_pos    0.699875\n",
      "17   category_personal_care    0.485022\n",
      "14       category_kids_pets    0.464901\n",
      "16        category_misc_pos    0.456415\n",
      "10     category_grocery_net    0.396761\n",
      "20          category_travel    0.378934\n",
      "12  category_health_fitness    0.357834\n",
      "8      category_food_dining    0.325250\n",
      "13            category_home    0.228721\n",
      "3                       age    0.034244\n",
      "6      latitudinal_distance    0.015180\n",
      "7     longitudinal_distance   -0.008461\n",
      "2                  city_pop   -0.032921\n",
      "1                    gender   -0.084231\n",
      "5                trans_year   -0.091934\n",
      "4               trans_month   -0.241496\n",
      "15        category_misc_net   -0.244440\n",
      "19    category_shopping_pos   -0.543778\n",
      "18    category_shopping_net   -0.769741\n"
     ]
    }
   ],
   "source": [
    "# Create an empty DataFrame object to hold the feature importances\n",
    "feature = pd.DataFrame()\n",
    "# Add a 'column' column to the DataFrame containing the column names from the X_train DataFrame\n",
    "feature['column'] = X_train.columns\n",
    "# Add an 'importance' column to the DataFrame containing the coefficients from the fitted logistic regression model\n",
    "feature['importance'] = logit_model.coef_[0]\n",
    "# Sort the DataFrame in descending order based on the 'importance' column\n",
    "feature.sort_values('importance', ascending=False, inplace=True)\n",
    "# Print the resulting DataFrame\n",
    "print(feature)"
   ]
  },
  {
   "cell_type": "code",
   "execution_count": 56,
   "metadata": {
    "datalore": {
     "hide_input_from_viewers": true,
     "hide_output_from_viewers": true,
     "node_id": "ce2oBxX3606wuSQ9c3ne7v",
     "type": "CODE"
    }
   },
   "outputs": [
    {
     "name": "stdout",
     "output_type": "stream",
     "text": [
      "Score of the model with X-train and Y-train is :  67.89 %\n",
      "Score of the model with X-test and Y-test is :  67.84 %\n",
      "Mean absolute error is  0.17745818192868895\n",
      "Mean squared error is  0.17745818192868895\n",
      "Median absolute error is  0.0\n",
      "Accuracy is  82.25 %\n",
      "F1 score:  82.16 %\n"
     ]
    }
   ],
   "source": [
    "# Import necessary modules from sklearn.metrics\n",
    "from sklearn.metrics import mean_absolute_error, mean_squared_error, median_absolute_error, accuracy_score, f1_score\n",
    "# Create an instance of the LogisticRegression class with the 'liblinear' solver\n",
    "Logit1 = LogisticRegression(solver='liblinear')\n",
    "# Fit the logistic regression model to the scaled training data and corresponding target variable\n",
    "Logit1.fit(X_train_std, Y_train)\n",
    "# Print the score of the model on the training and test sets\n",
    "print(\"Score of the model with X-train and Y-train is : \", str(round(Logit1.score(X_train,Y_train)*100,2)),\"%\")\n",
    "print(\"Score of the model with X-test and Y-test is : \", str(round(Logit1.score(X_test,Y_test)*100,2)),\"%\")\n",
    "# Generate predictions for the test set using the trained model\n",
    "Y_pred = Logit1.predict(X_test_std)\n",
    "# Calculate and print the mean absolute error between the predicted and actual values\n",
    "print(\"Mean absolute error is \", mean_absolute_error(Y_test, Y_pred))\n",
    "# Calculate and print the mean squared error between the predicted and actual values\n",
    "print(\"Mean squared error is \", mean_squared_error(Y_test, Y_pred))\n",
    "# Calculate and print the median absolute error between the predicted and actual values\n",
    "print(\"Median absolute error is \", median_absolute_error(Y_test, Y_pred))\n",
    "# Calculate and print the accuracy of the predictions\n",
    "print(\"Accuracy is \", round(accuracy_score(Y_test, Y_pred)*100,2),\"%\")\n",
    "# Calculate and print the F1 score of the predictions\n",
    "print(\"F1 score: \", round(f1_score(Y_test, Y_pred, average='weighted')*100,2),\"%\")"
   ]
  },
  {
   "cell_type": "code",
   "execution_count": null,
   "metadata": {
    "datalore": {
     "hide_input_from_viewers": true,
     "hide_output_from_viewers": true,
     "node_id": "ysHKVdc63HMq6BaPF7PrAx",
     "type": "CODE"
    }
   },
   "outputs": [],
   "source": []
  }
 ],
 "metadata": {
  "datalore": {
   "base_environment": "default",
   "computation_mode": "JUPYTER",
   "package_manager": "pip",
   "packages": [
    {
     "name": "randomcolor",
     "source": "PIP",
     "version": "0.4.4.6"
    },
    {
     "name": "standardscaler",
     "source": "PIP"
    }
   ],
   "report_row_ids": [],
   "version": 2
  },
  "kernelspec": {
   "display_name": "Python 3 (ipykernel)",
   "language": "python",
   "name": "python3"
  },
  "language_info": {
   "codemirror_mode": {
    "name": "ipython",
    "version": 3
   },
   "file_extension": ".py",
   "mimetype": "text/x-python",
   "name": "python",
   "nbconvert_exporter": "python",
   "pygments_lexer": "ipython3",
   "version": "3.9.7"
  }
 },
 "nbformat": 4,
 "nbformat_minor": 4
}
